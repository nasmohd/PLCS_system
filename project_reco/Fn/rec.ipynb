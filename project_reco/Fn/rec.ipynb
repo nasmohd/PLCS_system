{
 "cells": [
  {
   "cell_type": "code",
   "execution_count": 2,
   "id": "bdc3e992-cfbe-416e-a15d-efb2c4e1790b",
   "metadata": {},
   "outputs": [],
   "source": [
    "#Imports\n",
    "\n",
    "import pandas as pd\n",
    "import numpy as np\n",
    "from sklearn.metrics.pairwise import cosine_similarity"
   ]
  },
  {
   "cell_type": "code",
   "execution_count": 3,
   "id": "addbf4fa-3ec4-42de-ac0f-bd4d6772a849",
   "metadata": {},
   "outputs": [],
   "source": [
    "#Loading the Data\n",
    "users_df = pd.read_csv (\"users.csv\")\n",
    "\n",
    "projects_df = pd.read_csv (\"projects.csv\")"
   ]
  },
  {
   "cell_type": "code",
   "execution_count": 4,
   "id": "d5baf46f-97ee-4f00-ae9e-36da6086389e",
   "metadata": {},
   "outputs": [
    {
     "data": {
      "text/html": [
       "<div>\n",
       "<style scoped>\n",
       "    .dataframe tbody tr th:only-of-type {\n",
       "        vertical-align: middle;\n",
       "    }\n",
       "\n",
       "    .dataframe tbody tr th {\n",
       "        vertical-align: top;\n",
       "    }\n",
       "\n",
       "    .dataframe thead th {\n",
       "        text-align: right;\n",
       "    }\n",
       "</style>\n",
       "<table border=\"1\" class=\"dataframe\">\n",
       "  <thead>\n",
       "    <tr style=\"text-align: right;\">\n",
       "      <th></th>\n",
       "      <th>first_name</th>\n",
       "      <th>last_name</th>\n",
       "      <th>email</th>\n",
       "      <th>interests</th>\n",
       "    </tr>\n",
       "  </thead>\n",
       "  <tbody>\n",
       "    <tr>\n",
       "      <th>0</th>\n",
       "      <td>Bianca</td>\n",
       "      <td>Hill</td>\n",
       "      <td>bianca.hill@example.com</td>\n",
       "      <td>['UI/UX Design', 'Android Mobile App Programmi...</td>\n",
       "    </tr>\n",
       "    <tr>\n",
       "      <th>1</th>\n",
       "      <td>Mindy</td>\n",
       "      <td>Williams</td>\n",
       "      <td>mindy.williams@example.com</td>\n",
       "      <td>['Machine Learning', 'Data Analysis', 'Web Dev...</td>\n",
       "    </tr>\n",
       "    <tr>\n",
       "      <th>2</th>\n",
       "      <td>Jacob</td>\n",
       "      <td>Stanley</td>\n",
       "      <td>jacob.stanley@example.com</td>\n",
       "      <td>['Java Programming', 'UI/UX Design', 'Data Ana...</td>\n",
       "    </tr>\n",
       "    <tr>\n",
       "      <th>3</th>\n",
       "      <td>Alicia</td>\n",
       "      <td>Willis</td>\n",
       "      <td>alicia.willis@example.com</td>\n",
       "      <td>['C++ Programming', 'Data Analysis', 'Java Pro...</td>\n",
       "    </tr>\n",
       "    <tr>\n",
       "      <th>4</th>\n",
       "      <td>Cassandra</td>\n",
       "      <td>Stephens</td>\n",
       "      <td>cassandra.stephens@example.com</td>\n",
       "      <td>['Android Mobile App Programming', 'Machine Le...</td>\n",
       "    </tr>\n",
       "  </tbody>\n",
       "</table>\n",
       "</div>"
      ],
      "text/plain": [
       "  first_name last_name                           email  \\\n",
       "0     Bianca      Hill         bianca.hill@example.com   \n",
       "1      Mindy  Williams      mindy.williams@example.com   \n",
       "2      Jacob   Stanley       jacob.stanley@example.com   \n",
       "3     Alicia    Willis       alicia.willis@example.com   \n",
       "4  Cassandra  Stephens  cassandra.stephens@example.com   \n",
       "\n",
       "                                           interests  \n",
       "0  ['UI/UX Design', 'Android Mobile App Programmi...  \n",
       "1  ['Machine Learning', 'Data Analysis', 'Web Dev...  \n",
       "2  ['Java Programming', 'UI/UX Design', 'Data Ana...  \n",
       "3  ['C++ Programming', 'Data Analysis', 'Java Pro...  \n",
       "4  ['Android Mobile App Programming', 'Machine Le...  "
      ]
     },
     "execution_count": 4,
     "metadata": {},
     "output_type": "execute_result"
    }
   ],
   "source": [
    "users_df.head(5)"
   ]
  },
  {
   "cell_type": "code",
   "execution_count": 27,
   "id": "14fada34-252b-490d-bfc4-db6cfb5fae0b",
   "metadata": {},
   "outputs": [
    {
     "data": {
      "text/html": [
       "<div>\n",
       "<style scoped>\n",
       "    .dataframe tbody tr th:only-of-type {\n",
       "        vertical-align: middle;\n",
       "    }\n",
       "\n",
       "    .dataframe tbody tr th {\n",
       "        vertical-align: top;\n",
       "    }\n",
       "\n",
       "    .dataframe thead th {\n",
       "        text-align: right;\n",
       "    }\n",
       "</style>\n",
       "<table border=\"1\" class=\"dataframe\">\n",
       "  <thead>\n",
       "    <tr style=\"text-align: right;\">\n",
       "      <th></th>\n",
       "      <th>project_title</th>\n",
       "      <th>project_description</th>\n",
       "      <th>project_skills</th>\n",
       "      <th>project_budget</th>\n",
       "      <th>project_id</th>\n",
       "      <th>project_DOR</th>\n",
       "      <th>project_deadline</th>\n",
       "    </tr>\n",
       "  </thead>\n",
       "  <tbody>\n",
       "    <tr>\n",
       "      <th>0</th>\n",
       "      <td>Build a UI/UX Design System</td>\n",
       "      <td>This project involves UI/UX Design and require...</td>\n",
       "      <td>['UI/UX Design', 'Data Analysis']</td>\n",
       "      <td>375000</td>\n",
       "      <td>PLCS0001</td>\n",
       "      <td>2021-07-26</td>\n",
       "      <td>2021-05-05</td>\n",
       "    </tr>\n",
       "    <tr>\n",
       "      <th>1</th>\n",
       "      <td>Build a C++ Programming Project</td>\n",
       "      <td>This project involves C++ Programming and requ...</td>\n",
       "      <td>['C++ Programming', 'Java Programming']</td>\n",
       "      <td>171000</td>\n",
       "      <td>PLCS0002</td>\n",
       "      <td>2021-10-20</td>\n",
       "      <td>2021-04-28</td>\n",
       "    </tr>\n",
       "  </tbody>\n",
       "</table>\n",
       "</div>"
      ],
      "text/plain": [
       "                     project_title  \\\n",
       "0      Build a UI/UX Design System   \n",
       "1  Build a C++ Programming Project   \n",
       "\n",
       "                                 project_description  \\\n",
       "0  This project involves UI/UX Design and require...   \n",
       "1  This project involves C++ Programming and requ...   \n",
       "\n",
       "                            project_skills  project_budget project_id  \\\n",
       "0        ['UI/UX Design', 'Data Analysis']          375000   PLCS0001   \n",
       "1  ['C++ Programming', 'Java Programming']          171000   PLCS0002   \n",
       "\n",
       "  project_DOR project_deadline  \n",
       "0  2021-07-26       2021-05-05  \n",
       "1  2021-10-20       2021-04-28  "
      ]
     },
     "execution_count": 27,
     "metadata": {},
     "output_type": "execute_result"
    }
   ],
   "source": [
    "projects_df.head(2)"
   ]
  },
  {
   "cell_type": "code",
   "execution_count": 25,
   "id": "8f7eefa7-662c-4a57-ac09-cacb6766188f",
   "metadata": {},
   "outputs": [
    {
     "data": {
      "text/plain": [
       "\"['UI/UX Design', 'Android Mobile App Programming', 'C++ Programming']\""
      ]
     },
     "execution_count": 25,
     "metadata": {},
     "output_type": "execute_result"
    }
   ],
   "source": [
    "users_df.loc[0].interests"
   ]
  },
  {
   "cell_type": "code",
   "execution_count": null,
   "id": "dfbb3725-6dc4-4b4d-8ef5-45c8d51550b3",
   "metadata": {},
   "outputs": [],
   "source": []
  },
  {
   "cell_type": "code",
   "execution_count": 5,
   "id": "26db4732-f225-4a6e-b603-910920f71602",
   "metadata": {},
   "outputs": [],
   "source": [
    "#Preprocessing the data we are interested in\n",
    "user_interests = users_df['interests'].apply(eval).tolist()\n",
    "project_skills = projects_df['project_skills'].apply(eval).tolist()\n",
    "\n",
    "#each row is included in a list"
   ]
  },
  {
   "cell_type": "code",
   "execution_count": 8,
   "id": "5d6bb638-7d5f-4375-aea4-f57f35cb3476",
   "metadata": {},
   "outputs": [
    {
     "data": {
      "text/plain": [
       "[['UI/UX Design', 'Android Mobile App Programming', 'C++ Programming'],\n",
       " ['Machine Learning',\n",
       "  'Data Analysis',\n",
       "  'Web Development',\n",
       "  'C++ Programming',\n",
       "  'UI/UX Design'],\n",
       " ['Java Programming',\n",
       "  'UI/UX Design',\n",
       "  'Data Analysis',\n",
       "  'C++ Programming',\n",
       "  'Android Mobile App Programming'],\n",
       " ['C++ Programming',\n",
       "  'Data Analysis',\n",
       "  'Java Programming',\n",
       "  'UI/UX Design',\n",
       "  'Machine Learning',\n",
       "  'Android Mobile App Programming',\n",
       "  'Web Development'],\n",
       " ['Android Mobile App Programming',\n",
       "  'Machine Learning',\n",
       "  'Web Development',\n",
       "  'Data Analysis',\n",
       "  'UI/UX Design',\n",
       "  'C++ Programming']]"
      ]
     },
     "execution_count": 8,
     "metadata": {},
     "output_type": "execute_result"
    }
   ],
   "source": [
    "user_interests[0:5]"
   ]
  },
  {
   "cell_type": "code",
   "execution_count": null,
   "id": "8ccb6ad2-35fa-4b6f-ba5e-a33f88c719c7",
   "metadata": {},
   "outputs": [],
   "source": []
  },
  {
   "cell_type": "code",
   "execution_count": 9,
   "id": "973d8207-a9c7-493c-96a3-c65b1990c901",
   "metadata": {},
   "outputs": [],
   "source": [
    "#Create a list of unique interests and skills\n",
    "all_interests = list(set([interest for interests in user_interests for interest in interests]))\n",
    "all_skills = list(set([skill for skills in project_skills for skill in skills]))"
   ]
  },
  {
   "cell_type": "code",
   "execution_count": 11,
   "id": "353deb64-f4fa-4ff6-b608-74b9492250a6",
   "metadata": {},
   "outputs": [
    {
     "data": {
      "text/plain": [
       "['Data Analysis',\n",
       " 'UI/UX Design',\n",
       " 'Web Development',\n",
       " 'Machine Learning',\n",
       " 'Java Programming']"
      ]
     },
     "execution_count": 11,
     "metadata": {},
     "output_type": "execute_result"
    }
   ],
   "source": [
    "all_interests[0:5]"
   ]
  },
  {
   "cell_type": "code",
   "execution_count": null,
   "id": "eb951627-5886-4f45-bced-be4f6c50110f",
   "metadata": {},
   "outputs": [],
   "source": []
  },
  {
   "cell_type": "code",
   "execution_count": 13,
   "id": "e8b97bd4-410b-492b-8161-a56429376415",
   "metadata": {},
   "outputs": [],
   "source": [
    "#Create numerical vectors for user interests and project skills required\n",
    "user_vectors = np.zeros((len(user_interests), len(all_interests)))\n",
    "for i, interests in enumerate(user_interests):\n",
    "    for interest in interests:\n",
    "        user_vectors[i, all_interests.index(interest)] = 1"
   ]
  },
  {
   "cell_type": "code",
   "execution_count": 14,
   "id": "336a2f4c-d50f-4324-b618-a3ed83b9f9a0",
   "metadata": {},
   "outputs": [
    {
     "data": {
      "text/plain": [
       "array([[0., 1., 0., ..., 0., 1., 1.],\n",
       "       [1., 1., 1., ..., 0., 1., 0.],\n",
       "       [1., 1., 0., ..., 1., 1., 1.],\n",
       "       ...,\n",
       "       [0., 1., 1., ..., 1., 1., 1.],\n",
       "       [1., 1., 1., ..., 1., 1., 0.],\n",
       "       [0., 1., 1., ..., 0., 0., 1.]])"
      ]
     },
     "execution_count": 14,
     "metadata": {},
     "output_type": "execute_result"
    }
   ],
   "source": [
    "user_vectors"
   ]
  },
  {
   "cell_type": "code",
   "execution_count": 15,
   "id": "9d332ab7-4e56-478f-a285-b8a57b018d51",
   "metadata": {},
   "outputs": [
    {
     "data": {
      "text/plain": [
       "7000"
      ]
     },
     "execution_count": 15,
     "metadata": {},
     "output_type": "execute_result"
    }
   ],
   "source": [
    "user_vectors.size"
   ]
  },
  {
   "cell_type": "code",
   "execution_count": null,
   "id": "e628dc9a-4fec-431f-994c-2a6a56aa7a3a",
   "metadata": {},
   "outputs": [],
   "source": []
  },
  {
   "cell_type": "code",
   "execution_count": 16,
   "id": "09c44811-3ba4-4ce6-8447-d2a771affa76",
   "metadata": {},
   "outputs": [],
   "source": [
    "project_vectors = np.zeros((len(project_skills), len(all_skills)))\n",
    "for i, skills in enumerate(project_skills):\n",
    "    for skill in skills:\n",
    "        project_vectors[i, all_skills.index(skill)] = 1"
   ]
  },
  {
   "cell_type": "code",
   "execution_count": 17,
   "id": "e0266954-e42c-43c8-97d2-453df958ce36",
   "metadata": {},
   "outputs": [
    {
     "data": {
      "text/plain": [
       "array([[1., 1., 0., ..., 0., 0., 0.],\n",
       "       [0., 0., 0., ..., 1., 1., 0.],\n",
       "       [0., 0., 0., ..., 1., 0., 1.],\n",
       "       ...,\n",
       "       [0., 0., 0., ..., 0., 0., 1.],\n",
       "       [0., 0., 1., ..., 0., 0., 1.],\n",
       "       [0., 0., 0., ..., 1., 0., 1.]])"
      ]
     },
     "execution_count": 17,
     "metadata": {},
     "output_type": "execute_result"
    }
   ],
   "source": [
    "project_vectors"
   ]
  },
  {
   "cell_type": "code",
   "execution_count": null,
   "id": "f9654030-b706-4dcc-b192-9d0eba6a4e5f",
   "metadata": {},
   "outputs": [],
   "source": []
  },
  {
   "cell_type": "code",
   "execution_count": 36,
   "id": "d10ef863-4657-4503-8f6d-d7d247366ce0",
   "metadata": {},
   "outputs": [],
   "source": [
    "#Calculate cosine similarity\n",
    "similarity_matrix = cosine_similarity(user_vectors, project_vectors)"
   ]
  },
  {
   "cell_type": "code",
   "execution_count": 37,
   "id": "c772ba1d-575f-41a9-99c8-f9a5748f8151",
   "metadata": {},
   "outputs": [
    {
     "data": {
      "text/plain": [
       "array([[0.40824829, 0.40824829, 0.40824829, ..., 0.40824829, 0.40824829,\n",
       "        0.40824829],\n",
       "       [0.63245553, 0.31622777, 0.        , ..., 0.31622777, 0.31622777,\n",
       "        0.        ],\n",
       "       [0.63245553, 0.63245553, 0.63245553, ..., 0.31622777, 0.31622777,\n",
       "        0.63245553],\n",
       "       ...,\n",
       "       [0.31622777, 0.63245553, 0.63245553, ..., 0.31622777, 0.63245553,\n",
       "        0.63245553],\n",
       "       [0.57735027, 0.57735027, 0.28867513, ..., 0.28867513, 0.28867513,\n",
       "        0.28867513],\n",
       "       [0.40824829, 0.        , 0.40824829, ..., 0.40824829, 0.81649658,\n",
       "        0.40824829]])"
      ]
     },
     "execution_count": 37,
     "metadata": {},
     "output_type": "execute_result"
    }
   ],
   "source": [
    "similarity_matrix"
   ]
  },
  {
   "cell_type": "code",
   "execution_count": null,
   "id": "8951bc22-7c87-4730-b428-fdd3ae8041dd",
   "metadata": {},
   "outputs": [],
   "source": []
  },
  {
   "cell_type": "code",
   "execution_count": 19,
   "id": "ce356682-dc2e-4704-b68c-9814239a1ce3",
   "metadata": {},
   "outputs": [],
   "source": [
    "# Step 4: Sort projects based on cosine similarity scores\n",
    "sorted_indices = np.argsort(similarity_matrix, axis=1)[:, ::-1]  # Descending order\n"
   ]
  },
  {
   "cell_type": "code",
   "execution_count": 20,
   "id": "3feb61e1-38b0-4902-8a7c-065ebbff48ef",
   "metadata": {},
   "outputs": [
    {
     "data": {
      "text/plain": [
       "array([[423, 357, 286, ..., 347, 722, 499],\n",
       "       [  0, 759, 309, ..., 791, 794, 999],\n",
       "       [999, 542, 507, ..., 320, 319, 390],\n",
       "       ...,\n",
       "       [999, 508, 517, ..., 671, 673, 499],\n",
       "       [  0, 270, 279, ...,  77, 906, 923],\n",
       "       [624, 644, 919, ..., 717, 350, 499]], dtype=int64)"
      ]
     },
     "execution_count": 20,
     "metadata": {},
     "output_type": "execute_result"
    }
   ],
   "source": [
    "sorted_indices"
   ]
  },
  {
   "cell_type": "code",
   "execution_count": null,
   "id": "2994a19f-3bb5-4fa4-be66-212a3e45d04a",
   "metadata": {},
   "outputs": [],
   "source": []
  },
  {
   "cell_type": "code",
   "execution_count": 21,
   "id": "4cdb2514-b106-4e00-8842-752bc8e10359",
   "metadata": {},
   "outputs": [
    {
     "data": {
      "text/plain": [
       "email                                             bianca.hill@example.com\n",
       "recommended_projects    [PLCS0424, PLCS0358, PLCS0287, PLCS0147, PLCS0...\n",
       "Name: 0, dtype: object"
      ]
     },
     "execution_count": 21,
     "metadata": {},
     "output_type": "execute_result"
    }
   ],
   "source": [
    "# Step 5: Return top 10 project recommendations for each user\n",
    "num_recommendations = 10\n",
    "rec_df = pd.DataFrame(columns=['email', 'recommended_projects'])\n",
    "\n",
    "for i, user in enumerate(users_df['email']):\n",
    "    user_recommendations = []\n",
    "    for j in range(num_recommendations):\n",
    "        project_index = sorted_indices[i, j]\n",
    "        project_id = projects_df['project_id'].iloc[project_index]\n",
    "        user_recommendations.append(project_id)\n",
    "\n",
    "        #print(\"Recommendations for user\", user, \":\", user_recommendations)\n",
    "    rec_df.loc[i] = [user, user_recommendations]\n",
    "\n",
    "rec_df.loc[0]\n",
    "#rec_df.to_csv('rec_cosSim.csv', index=False)"
   ]
  },
  {
   "cell_type": "code",
   "execution_count": 26,
   "id": "52ca162d-8ed8-467c-a19c-1e2c999ac811",
   "metadata": {},
   "outputs": [],
   "source": [
    "rec_projects = rec_df.loc[0]"
   ]
  },
  {
   "cell_type": "code",
   "execution_count": 35,
   "id": "33c621ee-9126-4ec4-8336-673bec4a0d9e",
   "metadata": {},
   "outputs": [
    {
     "name": "stdout",
     "output_type": "stream",
     "text": [
      "<class 'str'>\n",
      "<class 'list'>\n"
     ]
    }
   ],
   "source": [
    "rec_interests = []\n",
    "for i in rec_projects:\n",
    "    print (type(i))"
   ]
  },
  {
   "cell_type": "code",
   "execution_count": null,
   "id": "010853c4-d91e-4b30-a830-7732428354fd",
   "metadata": {},
   "outputs": [],
   "source": []
  },
  {
   "cell_type": "code",
   "execution_count": null,
   "id": "0ecff2e8-c1d3-4df5-bf3b-66fdeea045ae",
   "metadata": {},
   "outputs": [],
   "source": [
    "#Calculating performance metrics\n",
    "#Recall score\n",
    "\n",
    "ground_truth = []  # Ground truth data for relevant projects\n",
    "recall = recall_score(ground_truth, recommended_projects, average='micro', zero_division=1)\n",
    "print(\"Recall:\", recall)"
   ]
  },
  {
   "cell_type": "code",
   "execution_count": null,
   "id": "a0ce3301-152c-4d7e-bc3f-860b68640a1a",
   "metadata": {},
   "outputs": [
    {
     "name": "stdout",
     "output_type": "stream",
     "text": [
      "Recall: 0.97\n"
     ]
    }
   ],
   "source": []
  },
  {
   "cell_type": "code",
   "execution_count": null,
   "id": "0a973cef-f841-4ee0-affa-f68a3083a994",
   "metadata": {},
   "outputs": [],
   "source": []
  }
 ],
 "metadata": {
  "kernelspec": {
   "display_name": "Python 3 (ipykernel)",
   "language": "python",
   "name": "python3"
  },
  "language_info": {
   "codemirror_mode": {
    "name": "ipython",
    "version": 3
   },
   "file_extension": ".py",
   "mimetype": "text/x-python",
   "name": "python",
   "nbconvert_exporter": "python",
   "pygments_lexer": "ipython3",
   "version": "3.9.12"
  }
 },
 "nbformat": 4,
 "nbformat_minor": 5
}
