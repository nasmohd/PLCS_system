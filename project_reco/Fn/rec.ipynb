{
 "cells": [
  {
   "cell_type": "code",
   "execution_count": 4,
   "id": "bdc3e992-cfbe-416e-a15d-efb2c4e1790b",
   "metadata": {},
   "outputs": [],
   "source": [
    "#Imports\n",
    "\n",
    "import pandas as pd\n",
    "import numpy as np\n",
    "from sklearn.metrics.pairwise import cosine_similarity"
   ]
  },
  {
   "cell_type": "code",
   "execution_count": 5,
   "id": "addbf4fa-3ec4-42de-ac0f-bd4d6772a849",
   "metadata": {},
   "outputs": [],
   "source": [
    "#Loading the Data\n",
    "users_df = pd.read_csv (\"users.csv\")\n",
    "\n",
    "projects_df = pd.read_csv (\"projects.csv\")"
   ]
  },
  {
   "cell_type": "code",
   "execution_count": 6,
   "id": "d5baf46f-97ee-4f00-ae9e-36da6086389e",
   "metadata": {},
   "outputs": [
    {
     "data": {
      "text/html": [
       "<div>\n",
       "<style scoped>\n",
       "    .dataframe tbody tr th:only-of-type {\n",
       "        vertical-align: middle;\n",
       "    }\n",
       "\n",
       "    .dataframe tbody tr th {\n",
       "        vertical-align: top;\n",
       "    }\n",
       "\n",
       "    .dataframe thead th {\n",
       "        text-align: right;\n",
       "    }\n",
       "</style>\n",
       "<table border=\"1\" class=\"dataframe\">\n",
       "  <thead>\n",
       "    <tr style=\"text-align: right;\">\n",
       "      <th></th>\n",
       "      <th>first_name</th>\n",
       "      <th>last_name</th>\n",
       "      <th>email</th>\n",
       "      <th>interests</th>\n",
       "    </tr>\n",
       "  </thead>\n",
       "  <tbody>\n",
       "    <tr>\n",
       "      <th>0</th>\n",
       "      <td>Bianca</td>\n",
       "      <td>Hill</td>\n",
       "      <td>bianca.hill@example.com</td>\n",
       "      <td>['UI/UX Design', 'Android Mobile App Programmi...</td>\n",
       "    </tr>\n",
       "    <tr>\n",
       "      <th>1</th>\n",
       "      <td>Mindy</td>\n",
       "      <td>Williams</td>\n",
       "      <td>mindy.williams@example.com</td>\n",
       "      <td>['Machine Learning', 'Data Analysis', 'Web Dev...</td>\n",
       "    </tr>\n",
       "    <tr>\n",
       "      <th>2</th>\n",
       "      <td>Jacob</td>\n",
       "      <td>Stanley</td>\n",
       "      <td>jacob.stanley@example.com</td>\n",
       "      <td>['Java Programming', 'UI/UX Design', 'Data Ana...</td>\n",
       "    </tr>\n",
       "    <tr>\n",
       "      <th>3</th>\n",
       "      <td>Alicia</td>\n",
       "      <td>Willis</td>\n",
       "      <td>alicia.willis@example.com</td>\n",
       "      <td>['C++ Programming', 'Data Analysis', 'Java Pro...</td>\n",
       "    </tr>\n",
       "    <tr>\n",
       "      <th>4</th>\n",
       "      <td>Cassandra</td>\n",
       "      <td>Stephens</td>\n",
       "      <td>cassandra.stephens@example.com</td>\n",
       "      <td>['Android Mobile App Programming', 'Machine Le...</td>\n",
       "    </tr>\n",
       "  </tbody>\n",
       "</table>\n",
       "</div>"
      ],
      "text/plain": [
       "  first_name last_name                           email  \\\n",
       "0     Bianca      Hill         bianca.hill@example.com   \n",
       "1      Mindy  Williams      mindy.williams@example.com   \n",
       "2      Jacob   Stanley       jacob.stanley@example.com   \n",
       "3     Alicia    Willis       alicia.willis@example.com   \n",
       "4  Cassandra  Stephens  cassandra.stephens@example.com   \n",
       "\n",
       "                                           interests  \n",
       "0  ['UI/UX Design', 'Android Mobile App Programmi...  \n",
       "1  ['Machine Learning', 'Data Analysis', 'Web Dev...  \n",
       "2  ['Java Programming', 'UI/UX Design', 'Data Ana...  \n",
       "3  ['C++ Programming', 'Data Analysis', 'Java Pro...  \n",
       "4  ['Android Mobile App Programming', 'Machine Le...  "
      ]
     },
     "execution_count": 6,
     "metadata": {},
     "output_type": "execute_result"
    }
   ],
   "source": [
    "users_df.head(5)"
   ]
  },
  {
   "cell_type": "code",
   "execution_count": null,
   "id": "dfbb3725-6dc4-4b4d-8ef5-45c8d51550b3",
   "metadata": {},
   "outputs": [],
   "source": []
  },
  {
   "cell_type": "code",
   "execution_count": 7,
   "id": "26db4732-f225-4a6e-b603-910920f71602",
   "metadata": {},
   "outputs": [],
   "source": [
    "#Preprocessing the data we are interested in\n",
    "user_interests = users_df['interests'].apply(eval).tolist()\n",
    "project_skills = projects_df['project_skills'].apply(eval).tolist()"
   ]
  },
  {
   "cell_type": "code",
   "execution_count": 8,
   "id": "e60da12d-6a57-4680-8f2d-3e710d6e195d",
   "metadata": {},
   "outputs": [
    {
     "data": {
      "text/plain": [
       "[['UI/UX Design', 'Android Mobile App Programming', 'C++ Programming'],\n",
       " ['Machine Learning',\n",
       "  'Data Analysis',\n",
       "  'Web Development',\n",
       "  'C++ Programming',\n",
       "  'UI/UX Design'],\n",
       " ['Java Programming',\n",
       "  'UI/UX Design',\n",
       "  'Data Analysis',\n",
       "  'C++ Programming',\n",
       "  'Android Mobile App Programming'],\n",
       " ['C++ Programming',\n",
       "  'Data Analysis',\n",
       "  'Java Programming',\n",
       "  'UI/UX Design',\n",
       "  'Machine Learning',\n",
       "  'Android Mobile App Programming',\n",
       "  'Web Development'],\n",
       " ['Android Mobile App Programming',\n",
       "  'Machine Learning',\n",
       "  'Web Development',\n",
       "  'Data Analysis',\n",
       "  'UI/UX Design',\n",
       "  'C++ Programming'],\n",
       " ['Web Development',\n",
       "  'Machine Learning',\n",
       "  'Java Programming',\n",
       "  'Data Analysis',\n",
       "  'Android Mobile App Programming',\n",
       "  'C++ Programming'],\n",
       " ['Machine Learning',\n",
       "  'Android Mobile App Programming',\n",
       "  'Java Programming',\n",
       "  'UI/UX Design',\n",
       "  'Data Analysis'],\n",
       " ['Web Development',\n",
       "  'Machine Learning',\n",
       "  'Java Programming',\n",
       "  'Android Mobile App Programming',\n",
       "  'C++ Programming',\n",
       "  'Data Analysis'],\n",
       " ['UI/UX Design',\n",
       "  'Java Programming',\n",
       "  'Android Mobile App Programming',\n",
       "  'Data Analysis',\n",
       "  'C++ Programming',\n",
       "  'Web Development'],\n",
       " ['Web Development', 'UI/UX Design', 'Machine Learning']]"
      ]
     },
     "execution_count": 8,
     "metadata": {},
     "output_type": "execute_result"
    }
   ],
   "source": [
    "user_interests[0:10]"
   ]
  },
  {
   "cell_type": "code",
   "execution_count": null,
   "id": "8ccb6ad2-35fa-4b6f-ba5e-a33f88c719c7",
   "metadata": {},
   "outputs": [],
   "source": []
  },
  {
   "cell_type": "code",
   "execution_count": 9,
   "id": "973d8207-a9c7-493c-96a3-c65b1990c901",
   "metadata": {},
   "outputs": [],
   "source": [
    "#Create a list of unique interests and skills\n",
    "all_interests = list(set([interest for interests in user_interests for interest in interests]))\n",
    "all_skills = list(set([skill for skills in project_skills for skill in skills]))"
   ]
  },
  {
   "cell_type": "code",
   "execution_count": 10,
   "id": "353deb64-f4fa-4ff6-b608-74b9492250a6",
   "metadata": {},
   "outputs": [
    {
     "data": {
      "text/plain": [
       "['UI/UX Design',\n",
       " 'Web Development',\n",
       " 'Data Analysis',\n",
       " 'Java Programming',\n",
       " 'Machine Learning',\n",
       " 'Android Mobile App Programming',\n",
       " 'C++ Programming']"
      ]
     },
     "execution_count": 10,
     "metadata": {},
     "output_type": "execute_result"
    }
   ],
   "source": [
    "all_interests"
   ]
  },
  {
   "cell_type": "code",
   "execution_count": null,
   "id": "eb951627-5886-4f45-bced-be4f6c50110f",
   "metadata": {},
   "outputs": [],
   "source": []
  },
  {
   "cell_type": "code",
   "execution_count": 11,
   "id": "e8b97bd4-410b-492b-8161-a56429376415",
   "metadata": {},
   "outputs": [],
   "source": [
    "#Create numerical vectors for user interests and project skills required\n",
    "user_vectors = np.zeros((len(user_interests), len(all_interests)))\n",
    "for i, interests in enumerate(user_interests):\n",
    "    for interest in interests:\n",
    "        user_vectors[i, all_interests.index(interest)] = 1"
   ]
  },
  {
   "cell_type": "code",
   "execution_count": 12,
   "id": "336a2f4c-d50f-4324-b618-a3ed83b9f9a0",
   "metadata": {},
   "outputs": [
    {
     "data": {
      "text/plain": [
       "array([[1., 0., 0., ..., 0., 1., 1.],\n",
       "       [1., 1., 1., ..., 1., 0., 1.],\n",
       "       [1., 0., 1., ..., 0., 1., 1.],\n",
       "       ...,\n",
       "       [1., 1., 0., ..., 0., 1., 1.],\n",
       "       [1., 1., 1., ..., 1., 0., 1.],\n",
       "       [1., 1., 0., ..., 0., 1., 0.]])"
      ]
     },
     "execution_count": 12,
     "metadata": {},
     "output_type": "execute_result"
    }
   ],
   "source": [
    "user_vectors"
   ]
  },
  {
   "cell_type": "code",
   "execution_count": 13,
   "id": "9d332ab7-4e56-478f-a285-b8a57b018d51",
   "metadata": {},
   "outputs": [
    {
     "data": {
      "text/plain": [
       "7000"
      ]
     },
     "execution_count": 13,
     "metadata": {},
     "output_type": "execute_result"
    }
   ],
   "source": [
    "user_vectors.size"
   ]
  },
  {
   "cell_type": "code",
   "execution_count": null,
   "id": "e628dc9a-4fec-431f-994c-2a6a56aa7a3a",
   "metadata": {},
   "outputs": [],
   "source": []
  },
  {
   "cell_type": "code",
   "execution_count": 14,
   "id": "09c44811-3ba4-4ce6-8447-d2a771affa76",
   "metadata": {},
   "outputs": [],
   "source": [
    "project_vectors = np.zeros((len(project_skills), len(all_skills)))\n",
    "for i, skills in enumerate(project_skills):\n",
    "    for skill in skills:\n",
    "        project_vectors[i, all_skills.index(skill)] = 1"
   ]
  },
  {
   "cell_type": "code",
   "execution_count": 15,
   "id": "e0266954-e42c-43c8-97d2-453df958ce36",
   "metadata": {},
   "outputs": [
    {
     "data": {
      "text/plain": [
       "array([[1., 0., 1., ..., 0., 0., 0.],\n",
       "       [0., 0., 0., ..., 0., 0., 1.],\n",
       "       [0., 0., 0., ..., 0., 1., 0.],\n",
       "       ...,\n",
       "       [0., 0., 0., ..., 1., 1., 0.],\n",
       "       [0., 1., 0., ..., 0., 1., 0.],\n",
       "       [0., 0., 0., ..., 0., 1., 0.]])"
      ]
     },
     "execution_count": 15,
     "metadata": {},
     "output_type": "execute_result"
    }
   ],
   "source": [
    "project_vectors"
   ]
  },
  {
   "cell_type": "code",
   "execution_count": null,
   "id": "f9654030-b706-4dcc-b192-9d0eba6a4e5f",
   "metadata": {},
   "outputs": [],
   "source": []
  },
  {
   "cell_type": "code",
   "execution_count": 16,
   "id": "d10ef863-4657-4503-8f6d-d7d247366ce0",
   "metadata": {},
   "outputs": [],
   "source": [
    "#Calculate cosine similarity\n",
    "similarity_matrix = cosine_similarity(user_vectors, project_vectors)"
   ]
  },
  {
   "cell_type": "code",
   "execution_count": null,
   "id": "8951bc22-7c87-4730-b428-fdd3ae8041dd",
   "metadata": {},
   "outputs": [],
   "source": []
  },
  {
   "cell_type": "code",
   "execution_count": 17,
   "id": "ce356682-dc2e-4704-b68c-9814239a1ce3",
   "metadata": {},
   "outputs": [],
   "source": [
    "# Step 4: Sort projects based on cosine similarity scores\n",
    "sorted_indices = np.argsort(similarity_matrix, axis=1)[:, ::-1]  # Descending order\n"
   ]
  },
  {
   "cell_type": "code",
   "execution_count": null,
   "id": "da62a755-a755-44a7-9cc7-799482374726",
   "metadata": {},
   "outputs": [],
   "source": []
  },
  {
   "cell_type": "code",
   "execution_count": 18,
   "id": "4cdb2514-b106-4e00-8842-752bc8e10359",
   "metadata": {},
   "outputs": [],
   "source": [
    "# Step 5: Return top 10 project recommendations for each user\n",
    "num_recommendations = 10\n",
    "rec_df = pd.DataFrame(columns=['email', 'recommended_projects'])\n",
    "\n",
    "for i, user in enumerate(users_df['email']):\n",
    "    user_recommendations = []\n",
    "    for j in range(num_recommendations):\n",
    "        project_index = sorted_indices[i, j]\n",
    "        project_id = projects_df['project_id'].iloc[project_index]\n",
    "        user_recommendations.append(project_id)\n",
    "\n",
    "        #print(\"Recommendations for user\", user, \":\", user_recommendations)\n",
    "    rec_df.loc[i] = [user, user_recommendations]\n",
    "        \n",
    "rec_df.to_csv('rec_cosSim.csv', index=False)"
   ]
  },
  {
   "cell_type": "code",
   "execution_count": null,
   "id": "52ca162d-8ed8-467c-a19c-1e2c999ac811",
   "metadata": {},
   "outputs": [],
   "source": []
  }
 ],
 "metadata": {
  "kernelspec": {
   "display_name": "Python 3 (ipykernel)",
   "language": "python",
   "name": "python3"
  },
  "language_info": {
   "codemirror_mode": {
    "name": "ipython",
    "version": 3
   },
   "file_extension": ".py",
   "mimetype": "text/x-python",
   "name": "python",
   "nbconvert_exporter": "python",
   "pygments_lexer": "ipython3",
   "version": "3.9.12"
  }
 },
 "nbformat": 4,
 "nbformat_minor": 5
}
