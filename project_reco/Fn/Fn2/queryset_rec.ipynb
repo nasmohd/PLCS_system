{
 "cells": [
  {
   "cell_type": "code",
   "execution_count": 15,
   "id": "2d0ac664-545a-4712-b3ee-6b787eb94b3c",
   "metadata": {},
   "outputs": [],
   "source": [
    "from faker import Faker\n",
    "from sklearn.feature_extraction.text import CountVectorizer\n",
    "from sklearn.metrics.pairwise import cosine_similarity\n",
    "import random\n",
    "\n",
    "# Step 1: Generate random user data\n",
    "\n",
    "fake = Faker()\n",
    "\n",
    "# List of predefined skills\n",
    "skills_list = ['UI/UX', 'C++ Programming', 'Algorithms', 'Data structures']\n",
    "\n",
    "\n",
    "# Generate random user data\n",
    "users = []\n",
    "for _ in range(10):\n",
    "    email = fake.email()\n",
    "    skills = random.sample(skills_list, 4)  # Random skills from the predefined list\n",
    "    users.append((email, skills))\n",
    "\n",
    "# Step 2: Generate random project data\n",
    "\n",
    "# Generate random project data\n",
    "projects = []\n",
    "for _ in range(25):\n",
    "    project_id = fake.uuid4()\n",
    "    skills = random.sample(skills_list, 4)  # Random skills from the predefined list\n",
    "    projects.append((project_id, skills))\n",
    "\n",
    "\n"
   ]
  },
  {
   "cell_type": "code",
   "execution_count": 16,
   "id": "db7d90ae-a84a-4a24-94f8-2c8d47ac2214",
   "metadata": {},
   "outputs": [
    {
     "data": {
      "text/plain": [
       "[('umunoz@example.org',\n",
       "  ['Data structures', 'C++ Programming', 'UI/UX', 'Algorithms']),\n",
       " ('scott17@example.org',\n",
       "  ['C++ Programming', 'Algorithms', 'UI/UX', 'Data structures']),\n",
       " ('natalie19@example.com',\n",
       "  ['Algorithms', 'UI/UX', 'Data structures', 'C++ Programming']),\n",
       " ('steven79@example.org',\n",
       "  ['UI/UX', 'Data structures', 'Algorithms', 'C++ Programming']),\n",
       " ('fgeorge@example.org',\n",
       "  ['Data structures', 'C++ Programming', 'Algorithms', 'UI/UX']),\n",
       " ('powelllaura@example.net',\n",
       "  ['Algorithms', 'UI/UX', 'Data structures', 'C++ Programming']),\n",
       " ('herrerajohn@example.net',\n",
       "  ['C++ Programming', 'UI/UX', 'Algorithms', 'Data structures']),\n",
       " ('fhall@example.org',\n",
       "  ['UI/UX', 'C++ Programming', 'Data structures', 'Algorithms']),\n",
       " ('marc02@example.org',\n",
       "  ['Data structures', 'Algorithms', 'UI/UX', 'C++ Programming']),\n",
       " ('nicole20@example.net',\n",
       "  ['Data structures', 'UI/UX', 'C++ Programming', 'Algorithms'])]"
      ]
     },
     "execution_count": 16,
     "metadata": {},
     "output_type": "execute_result"
    }
   ],
   "source": [
    "users"
   ]
  },
  {
   "cell_type": "code",
   "execution_count": 17,
   "id": "35e8d0a3-f133-4b2d-adcc-bbe261260f0d",
   "metadata": {},
   "outputs": [
    {
     "data": {
      "text/plain": [
       "[('b5e96689-c891-49f7-a95e-040f80fb2db2',\n",
       "  ['UI/UX', 'C++ Programming', 'Algorithms', 'Data structures']),\n",
       " ('53dffbd2-8555-4298-8cbe-707f86b235db',\n",
       "  ['C++ Programming', 'Data structures', 'UI/UX', 'Algorithms']),\n",
       " ('948a03c1-f827-40c3-9a68-54eb6c7d3a52',\n",
       "  ['C++ Programming', 'UI/UX', 'Algorithms', 'Data structures']),\n",
       " ('84a1baa9-fecd-4073-8708-14394c1e52f3',\n",
       "  ['Algorithms', 'UI/UX', 'C++ Programming', 'Data structures']),\n",
       " ('ea6d9f9f-92f3-4682-8182-ddd5555ae4a8',\n",
       "  ['Algorithms', 'C++ Programming', 'UI/UX', 'Data structures']),\n",
       " ('9cf78974-cada-4a9d-ae4f-7f4961deeadd',\n",
       "  ['Algorithms', 'UI/UX', 'Data structures', 'C++ Programming']),\n",
       " ('b1a3b242-dfbf-4bb2-be59-0b8ca8e1d9c1',\n",
       "  ['C++ Programming', 'Data structures', 'UI/UX', 'Algorithms']),\n",
       " ('9af6f0a8-e4ba-49f9-a6a2-195fb6d5d83e',\n",
       "  ['UI/UX', 'Data structures', 'Algorithms', 'C++ Programming']),\n",
       " ('fbc14302-f25c-4f74-a34d-f1f685db1dc6',\n",
       "  ['Data structures', 'C++ Programming', 'UI/UX', 'Algorithms']),\n",
       " ('d02f3545-b4c3-4cc1-94bb-7bb7cf3cb304',\n",
       "  ['Data structures', 'Algorithms', 'UI/UX', 'C++ Programming']),\n",
       " ('6e9c8029-0425-477c-a035-f19893c905fa',\n",
       "  ['Data structures', 'Algorithms', 'UI/UX', 'C++ Programming']),\n",
       " ('2b5110c2-f84c-4edf-a042-166060adb64e',\n",
       "  ['UI/UX', 'C++ Programming', 'Algorithms', 'Data structures']),\n",
       " ('c0001b14-263d-45dc-b912-a7b92a31ceb3',\n",
       "  ['Algorithms', 'Data structures', 'C++ Programming', 'UI/UX']),\n",
       " ('659584e4-0da9-47e4-91bc-d9d70d7267ae',\n",
       "  ['C++ Programming', 'Algorithms', 'UI/UX', 'Data structures']),\n",
       " ('6203708d-e63a-43d9-9db1-bbdc6747235f',\n",
       "  ['UI/UX', 'Algorithms', 'C++ Programming', 'Data structures']),\n",
       " ('dd179b75-737f-4213-8cab-0b96f2e5684a',\n",
       "  ['Algorithms', 'C++ Programming', 'UI/UX', 'Data structures']),\n",
       " ('bbac942e-68a1-4a32-b3e8-288d3ac419ab',\n",
       "  ['Data structures', 'UI/UX', 'C++ Programming', 'Algorithms']),\n",
       " ('a30635eb-61d0-46f7-b53b-c09570d8d2a6',\n",
       "  ['C++ Programming', 'UI/UX', 'Data structures', 'Algorithms']),\n",
       " ('ff02eda0-8dc7-4754-a9d5-c9b68888d5d5',\n",
       "  ['C++ Programming', 'Data structures', 'UI/UX', 'Algorithms']),\n",
       " ('806cf243-ab60-4553-88bc-28212dc8380b',\n",
       "  ['C++ Programming', 'Algorithms', 'Data structures', 'UI/UX']),\n",
       " ('dbd3bf5d-1b4c-41aa-a627-96e34dea4a1b',\n",
       "  ['Data structures', 'C++ Programming', 'Algorithms', 'UI/UX']),\n",
       " ('bb349ca2-bd3a-4534-9ef1-5fa03f1c13a4',\n",
       "  ['Data structures', 'UI/UX', 'C++ Programming', 'Algorithms']),\n",
       " ('1a40be7e-1237-45dd-ba66-ba5b8a3f8cf0',\n",
       "  ['Data structures', 'UI/UX', 'Algorithms', 'C++ Programming']),\n",
       " ('af692fe9-a275-4957-be4d-341a40392da7',\n",
       "  ['Algorithms', 'Data structures', 'C++ Programming', 'UI/UX']),\n",
       " ('de71a8ce-b6fb-45c8-a846-9e92d0b91fdb',\n",
       "  ['Algorithms', 'Data structures', 'C++ Programming', 'UI/UX'])]"
      ]
     },
     "execution_count": 17,
     "metadata": {},
     "output_type": "execute_result"
    }
   ],
   "source": [
    "projects"
   ]
  },
  {
   "cell_type": "code",
   "execution_count": null,
   "id": "c13c408f-cebb-4c51-b2f8-73ff92cc75d6",
   "metadata": {},
   "outputs": [],
   "source": []
  },
  {
   "cell_type": "code",
   "execution_count": 18,
   "id": "dc4cb1b9-ed26-4f65-a998-bc6461ed629f",
   "metadata": {},
   "outputs": [],
   "source": [
    "# Step 3: Preprocess data and compute cosine similarity matrix\n",
    "\n",
    "# Preprocess skills for CountVectorizer\n",
    "all_skills = [' '.join(user[1]) for user in users] + [' '.join(project[1]) for project in projects]\n",
    "\n"
   ]
  },
  {
   "cell_type": "code",
   "execution_count": 19,
   "id": "8ec3972d-e500-4019-a8c9-8e899872e68f",
   "metadata": {},
   "outputs": [
    {
     "data": {
      "text/plain": [
       "['Data structures C++ Programming UI/UX Algorithms',\n",
       " 'C++ Programming Algorithms UI/UX Data structures',\n",
       " 'Algorithms UI/UX Data structures C++ Programming',\n",
       " 'UI/UX Data structures Algorithms C++ Programming',\n",
       " 'Data structures C++ Programming Algorithms UI/UX',\n",
       " 'Algorithms UI/UX Data structures C++ Programming',\n",
       " 'C++ Programming UI/UX Algorithms Data structures',\n",
       " 'UI/UX C++ Programming Data structures Algorithms',\n",
       " 'Data structures Algorithms UI/UX C++ Programming',\n",
       " 'Data structures UI/UX C++ Programming Algorithms',\n",
       " 'UI/UX C++ Programming Algorithms Data structures',\n",
       " 'C++ Programming Data structures UI/UX Algorithms',\n",
       " 'C++ Programming UI/UX Algorithms Data structures',\n",
       " 'Algorithms UI/UX C++ Programming Data structures',\n",
       " 'Algorithms C++ Programming UI/UX Data structures',\n",
       " 'Algorithms UI/UX Data structures C++ Programming',\n",
       " 'C++ Programming Data structures UI/UX Algorithms',\n",
       " 'UI/UX Data structures Algorithms C++ Programming',\n",
       " 'Data structures C++ Programming UI/UX Algorithms',\n",
       " 'Data structures Algorithms UI/UX C++ Programming',\n",
       " 'Data structures Algorithms UI/UX C++ Programming',\n",
       " 'UI/UX C++ Programming Algorithms Data structures',\n",
       " 'Algorithms Data structures C++ Programming UI/UX',\n",
       " 'C++ Programming Algorithms UI/UX Data structures',\n",
       " 'UI/UX Algorithms C++ Programming Data structures',\n",
       " 'Algorithms C++ Programming UI/UX Data structures',\n",
       " 'Data structures UI/UX C++ Programming Algorithms',\n",
       " 'C++ Programming UI/UX Data structures Algorithms',\n",
       " 'C++ Programming Data structures UI/UX Algorithms',\n",
       " 'C++ Programming Algorithms Data structures UI/UX',\n",
       " 'Data structures C++ Programming Algorithms UI/UX',\n",
       " 'Data structures UI/UX C++ Programming Algorithms',\n",
       " 'Data structures UI/UX Algorithms C++ Programming',\n",
       " 'Algorithms Data structures C++ Programming UI/UX',\n",
       " 'Algorithms Data structures C++ Programming UI/UX']"
      ]
     },
     "execution_count": 19,
     "metadata": {},
     "output_type": "execute_result"
    }
   ],
   "source": [
    "all_skills"
   ]
  },
  {
   "cell_type": "code",
   "execution_count": null,
   "id": "757337e1-ca68-4d8f-910c-45adc42bd540",
   "metadata": {},
   "outputs": [],
   "source": []
  },
  {
   "cell_type": "code",
   "execution_count": null,
   "id": "914edede-8553-4f16-b01d-ab8bee1ec1d3",
   "metadata": {},
   "outputs": [],
   "source": []
  },
  {
   "cell_type": "code",
   "execution_count": 20,
   "id": "ce3ddad6-6741-4492-802d-b6672fbe3c4e",
   "metadata": {},
   "outputs": [
    {
     "name": "stdout",
     "output_type": "stream",
     "text": [
      "Recommended projects for umunoz@example.org: ['de71a8ce-b6fb-45c8-a846-9e92d0b91fdb', '2b5110c2-f84c-4edf-a042-166060adb64e', '53dffbd2-8555-4298-8cbe-707f86b235db', '948a03c1-f827-40c3-9a68-54eb6c7d3a52', '84a1baa9-fecd-4073-8708-14394c1e52f3', 'ea6d9f9f-92f3-4682-8182-ddd5555ae4a8', '9cf78974-cada-4a9d-ae4f-7f4961deeadd', 'b1a3b242-dfbf-4bb2-be59-0b8ca8e1d9c1', '9af6f0a8-e4ba-49f9-a6a2-195fb6d5d83e', 'fbc14302-f25c-4f74-a34d-f1f685db1dc6', 'd02f3545-b4c3-4cc1-94bb-7bb7cf3cb304', '6e9c8029-0425-477c-a035-f19893c905fa', 'c0001b14-263d-45dc-b912-a7b92a31ceb3', 'af692fe9-a275-4957-be4d-341a40392da7', '659584e4-0da9-47e4-91bc-d9d70d7267ae']\n",
      "Recommended projects for scott17@example.org: ['de71a8ce-b6fb-45c8-a846-9e92d0b91fdb', '2b5110c2-f84c-4edf-a042-166060adb64e', '53dffbd2-8555-4298-8cbe-707f86b235db', '948a03c1-f827-40c3-9a68-54eb6c7d3a52', '84a1baa9-fecd-4073-8708-14394c1e52f3', 'ea6d9f9f-92f3-4682-8182-ddd5555ae4a8', '9cf78974-cada-4a9d-ae4f-7f4961deeadd', 'b1a3b242-dfbf-4bb2-be59-0b8ca8e1d9c1', '9af6f0a8-e4ba-49f9-a6a2-195fb6d5d83e', 'fbc14302-f25c-4f74-a34d-f1f685db1dc6', 'd02f3545-b4c3-4cc1-94bb-7bb7cf3cb304', '6e9c8029-0425-477c-a035-f19893c905fa', 'c0001b14-263d-45dc-b912-a7b92a31ceb3', 'af692fe9-a275-4957-be4d-341a40392da7', '659584e4-0da9-47e4-91bc-d9d70d7267ae']\n",
      "Recommended projects for natalie19@example.com: ['de71a8ce-b6fb-45c8-a846-9e92d0b91fdb', '2b5110c2-f84c-4edf-a042-166060adb64e', '53dffbd2-8555-4298-8cbe-707f86b235db', '948a03c1-f827-40c3-9a68-54eb6c7d3a52', '84a1baa9-fecd-4073-8708-14394c1e52f3', 'ea6d9f9f-92f3-4682-8182-ddd5555ae4a8', '9cf78974-cada-4a9d-ae4f-7f4961deeadd', 'b1a3b242-dfbf-4bb2-be59-0b8ca8e1d9c1', '9af6f0a8-e4ba-49f9-a6a2-195fb6d5d83e', 'fbc14302-f25c-4f74-a34d-f1f685db1dc6', 'd02f3545-b4c3-4cc1-94bb-7bb7cf3cb304', '6e9c8029-0425-477c-a035-f19893c905fa', 'c0001b14-263d-45dc-b912-a7b92a31ceb3', 'af692fe9-a275-4957-be4d-341a40392da7', '659584e4-0da9-47e4-91bc-d9d70d7267ae']\n",
      "Recommended projects for steven79@example.org: ['de71a8ce-b6fb-45c8-a846-9e92d0b91fdb', '2b5110c2-f84c-4edf-a042-166060adb64e', '53dffbd2-8555-4298-8cbe-707f86b235db', '948a03c1-f827-40c3-9a68-54eb6c7d3a52', '84a1baa9-fecd-4073-8708-14394c1e52f3', 'ea6d9f9f-92f3-4682-8182-ddd5555ae4a8', '9cf78974-cada-4a9d-ae4f-7f4961deeadd', 'b1a3b242-dfbf-4bb2-be59-0b8ca8e1d9c1', '9af6f0a8-e4ba-49f9-a6a2-195fb6d5d83e', 'fbc14302-f25c-4f74-a34d-f1f685db1dc6', 'd02f3545-b4c3-4cc1-94bb-7bb7cf3cb304', '6e9c8029-0425-477c-a035-f19893c905fa', 'c0001b14-263d-45dc-b912-a7b92a31ceb3', 'af692fe9-a275-4957-be4d-341a40392da7', '659584e4-0da9-47e4-91bc-d9d70d7267ae']\n",
      "Recommended projects for fgeorge@example.org: ['de71a8ce-b6fb-45c8-a846-9e92d0b91fdb', '2b5110c2-f84c-4edf-a042-166060adb64e', '53dffbd2-8555-4298-8cbe-707f86b235db', '948a03c1-f827-40c3-9a68-54eb6c7d3a52', '84a1baa9-fecd-4073-8708-14394c1e52f3', 'ea6d9f9f-92f3-4682-8182-ddd5555ae4a8', '9cf78974-cada-4a9d-ae4f-7f4961deeadd', 'b1a3b242-dfbf-4bb2-be59-0b8ca8e1d9c1', '9af6f0a8-e4ba-49f9-a6a2-195fb6d5d83e', 'fbc14302-f25c-4f74-a34d-f1f685db1dc6', 'd02f3545-b4c3-4cc1-94bb-7bb7cf3cb304', '6e9c8029-0425-477c-a035-f19893c905fa', 'c0001b14-263d-45dc-b912-a7b92a31ceb3', 'af692fe9-a275-4957-be4d-341a40392da7', '659584e4-0da9-47e4-91bc-d9d70d7267ae']\n",
      "Recommended projects for powelllaura@example.net: ['de71a8ce-b6fb-45c8-a846-9e92d0b91fdb', '2b5110c2-f84c-4edf-a042-166060adb64e', '53dffbd2-8555-4298-8cbe-707f86b235db', '948a03c1-f827-40c3-9a68-54eb6c7d3a52', '84a1baa9-fecd-4073-8708-14394c1e52f3', 'ea6d9f9f-92f3-4682-8182-ddd5555ae4a8', '9cf78974-cada-4a9d-ae4f-7f4961deeadd', 'b1a3b242-dfbf-4bb2-be59-0b8ca8e1d9c1', '9af6f0a8-e4ba-49f9-a6a2-195fb6d5d83e', 'fbc14302-f25c-4f74-a34d-f1f685db1dc6', 'd02f3545-b4c3-4cc1-94bb-7bb7cf3cb304', '6e9c8029-0425-477c-a035-f19893c905fa', 'c0001b14-263d-45dc-b912-a7b92a31ceb3', 'af692fe9-a275-4957-be4d-341a40392da7', '659584e4-0da9-47e4-91bc-d9d70d7267ae']\n",
      "Recommended projects for herrerajohn@example.net: ['de71a8ce-b6fb-45c8-a846-9e92d0b91fdb', '2b5110c2-f84c-4edf-a042-166060adb64e', '53dffbd2-8555-4298-8cbe-707f86b235db', '948a03c1-f827-40c3-9a68-54eb6c7d3a52', '84a1baa9-fecd-4073-8708-14394c1e52f3', 'ea6d9f9f-92f3-4682-8182-ddd5555ae4a8', '9cf78974-cada-4a9d-ae4f-7f4961deeadd', 'b1a3b242-dfbf-4bb2-be59-0b8ca8e1d9c1', '9af6f0a8-e4ba-49f9-a6a2-195fb6d5d83e', 'fbc14302-f25c-4f74-a34d-f1f685db1dc6', 'd02f3545-b4c3-4cc1-94bb-7bb7cf3cb304', '6e9c8029-0425-477c-a035-f19893c905fa', 'c0001b14-263d-45dc-b912-a7b92a31ceb3', 'af692fe9-a275-4957-be4d-341a40392da7', '659584e4-0da9-47e4-91bc-d9d70d7267ae']\n",
      "Recommended projects for fhall@example.org: ['de71a8ce-b6fb-45c8-a846-9e92d0b91fdb', '2b5110c2-f84c-4edf-a042-166060adb64e', '53dffbd2-8555-4298-8cbe-707f86b235db', '948a03c1-f827-40c3-9a68-54eb6c7d3a52', '84a1baa9-fecd-4073-8708-14394c1e52f3', 'ea6d9f9f-92f3-4682-8182-ddd5555ae4a8', '9cf78974-cada-4a9d-ae4f-7f4961deeadd', 'b1a3b242-dfbf-4bb2-be59-0b8ca8e1d9c1', '9af6f0a8-e4ba-49f9-a6a2-195fb6d5d83e', 'fbc14302-f25c-4f74-a34d-f1f685db1dc6', 'd02f3545-b4c3-4cc1-94bb-7bb7cf3cb304', '6e9c8029-0425-477c-a035-f19893c905fa', 'c0001b14-263d-45dc-b912-a7b92a31ceb3', 'af692fe9-a275-4957-be4d-341a40392da7', '659584e4-0da9-47e4-91bc-d9d70d7267ae']\n",
      "Recommended projects for marc02@example.org: ['de71a8ce-b6fb-45c8-a846-9e92d0b91fdb', '2b5110c2-f84c-4edf-a042-166060adb64e', '53dffbd2-8555-4298-8cbe-707f86b235db', '948a03c1-f827-40c3-9a68-54eb6c7d3a52', '84a1baa9-fecd-4073-8708-14394c1e52f3', 'ea6d9f9f-92f3-4682-8182-ddd5555ae4a8', '9cf78974-cada-4a9d-ae4f-7f4961deeadd', 'b1a3b242-dfbf-4bb2-be59-0b8ca8e1d9c1', '9af6f0a8-e4ba-49f9-a6a2-195fb6d5d83e', 'fbc14302-f25c-4f74-a34d-f1f685db1dc6', 'd02f3545-b4c3-4cc1-94bb-7bb7cf3cb304', '6e9c8029-0425-477c-a035-f19893c905fa', 'c0001b14-263d-45dc-b912-a7b92a31ceb3', 'af692fe9-a275-4957-be4d-341a40392da7', '659584e4-0da9-47e4-91bc-d9d70d7267ae']\n",
      "Recommended projects for nicole20@example.net: ['de71a8ce-b6fb-45c8-a846-9e92d0b91fdb', '2b5110c2-f84c-4edf-a042-166060adb64e', '53dffbd2-8555-4298-8cbe-707f86b235db', '948a03c1-f827-40c3-9a68-54eb6c7d3a52', '84a1baa9-fecd-4073-8708-14394c1e52f3', 'ea6d9f9f-92f3-4682-8182-ddd5555ae4a8', '9cf78974-cada-4a9d-ae4f-7f4961deeadd', 'b1a3b242-dfbf-4bb2-be59-0b8ca8e1d9c1', '9af6f0a8-e4ba-49f9-a6a2-195fb6d5d83e', 'fbc14302-f25c-4f74-a34d-f1f685db1dc6', 'd02f3545-b4c3-4cc1-94bb-7bb7cf3cb304', '6e9c8029-0425-477c-a035-f19893c905fa', 'c0001b14-263d-45dc-b912-a7b92a31ceb3', 'af692fe9-a275-4957-be4d-341a40392da7', '659584e4-0da9-47e4-91bc-d9d70d7267ae']\n"
     ]
    }
   ],
   "source": [
    "# Create CountVectorizer and fit-transform the skills\n",
    "vectorizer = CountVectorizer()\n",
    "skills_matrix = vectorizer.fit_transform(all_skills)\n",
    "\n",
    "# Compute cosine similarity matrix\n",
    "user_skills = skills_matrix[:len(users)]\n",
    "project_skills = skills_matrix[len(users):]\n",
    "cosine_sim_matrix = cosine_similarity(user_skills, project_skills)\n",
    "\n",
    "# Step 4: Generate recommendations\n",
    "\n",
    "for user_index, user in enumerate(users):\n",
    "    email = user[0]\n",
    "\n",
    "    # Get cosine similarity scores for the user\n",
    "    user_sim_scores = cosine_sim_matrix[user_index]\n",
    "\n",
    "    # Sort projects based on similarity scores\n",
    "    sorted_indices = user_sim_scores.argsort()[::-1]\n",
    "\n",
    "    # Get top 15 recommended projects\n",
    "    num_projects = min(15, len(projects))\n",
    "    recommended_projects = [projects[i][0] for i in sorted_indices[:num_projects]]\n",
    "\n",
    "    print(f\"Recommended projects for {email}: {recommended_projects}\")"
   ]
  },
  {
   "cell_type": "code",
   "execution_count": null,
   "id": "1bba030d-74d8-4cac-bdd5-6502b5ea2d01",
   "metadata": {},
   "outputs": [],
   "source": []
  }
 ],
 "metadata": {
  "kernelspec": {
   "display_name": "Python 3 (ipykernel)",
   "language": "python",
   "name": "python3"
  },
  "language_info": {
   "codemirror_mode": {
    "name": "ipython",
    "version": 3
   },
   "file_extension": ".py",
   "mimetype": "text/x-python",
   "name": "python",
   "nbconvert_exporter": "python",
   "pygments_lexer": "ipython3",
   "version": "3.9.12"
  }
 },
 "nbformat": 4,
 "nbformat_minor": 5
}
