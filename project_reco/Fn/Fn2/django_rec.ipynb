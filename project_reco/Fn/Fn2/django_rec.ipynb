{
 "cells": [
  {
   "cell_type": "code",
   "execution_count": 2,
   "id": "52ca162d-8ed8-467c-a19c-1e2c999ac811",
   "metadata": {},
   "outputs": [],
   "source": [
    "#Imports\n",
    "from sklearn.feature_extraction.text import CountVectorizer\n",
    "from sklearn.metrics.pairwise import cosine_similarity\n",
    "import pandas as pd\n"
   ]
  },
  {
   "cell_type": "code",
   "execution_count": 3,
   "id": "f8f8ace2-2914-4673-8e70-e86758fc2bc1",
   "metadata": {},
   "outputs": [],
   "source": [
    "# Step 1: Load data from Users.csv and Projects.csv\n",
    "users = pd.read_csv (\"Users.csv\")\n",
    "projects = pd.read_csv (\"Projects.csv\")"
   ]
  },
  {
   "cell_type": "code",
   "execution_count": null,
   "id": "3e3d0d5a-2862-45b0-88b0-373a9002307f",
   "metadata": {},
   "outputs": [],
   "source": []
  },
  {
   "cell_type": "code",
   "execution_count": 7,
   "id": "99b6baca-8881-4c9c-98cb-88d790b396d6",
   "metadata": {},
   "outputs": [],
   "source": [
    "# Step 2: Preprocess data and compute cosine similarity matrix\n",
    "# Preprocess skills for CountVectorizer\n",
    "\n",
    "#Get all the skills from the two csv docs\n",
    "all_skills = [users['Skills'] for user in users] + [projects['Skills'] for project in projects]"
   ]
  },
  {
   "cell_type": "code",
   "execution_count": 8,
   "id": "3ceef412-1390-4d6f-8bf5-312ff35ed7fd",
   "metadata": {},
   "outputs": [
    {
     "data": {
      "text/plain": [
       "[0                                   ['C++ Programming']\n",
       " 1     ['C++ Programming', 'UI/UX', 'Algorithm', 'Sof...\n",
       " 2     ['Web Application Development', 'UI/UX', 'C++ ...\n",
       " 3                                         ['Algorithm']\n",
       " 4     ['Algorithm', 'UI/UX', 'Software Engineering',...\n",
       "                             ...                        \n",
       " 95    ['C++ Programming', 'UI/UX', 'Web Application ...\n",
       " 96    ['Data Structures', 'Algorithm', 'Software Eng...\n",
       " 97    ['Data Structures', 'Algorithm', 'C++ Programm...\n",
       " 98    ['Web Application Development', 'Data Structur...\n",
       " 99                      ['Web Application Development']\n",
       " Name: Skills, Length: 100, dtype: object,\n",
       " 0                                   ['C++ Programming']\n",
       " 1     ['C++ Programming', 'UI/UX', 'Algorithm', 'Sof...\n",
       " 2     ['Web Application Development', 'UI/UX', 'C++ ...\n",
       " 3                                         ['Algorithm']\n",
       " 4     ['Algorithm', 'UI/UX', 'Software Engineering',...\n",
       "                             ...                        \n",
       " 95    ['C++ Programming', 'UI/UX', 'Web Application ...\n",
       " 96    ['Data Structures', 'Algorithm', 'Software Eng...\n",
       " 97    ['Data Structures', 'Algorithm', 'C++ Programm...\n",
       " 98    ['Web Application Development', 'Data Structur...\n",
       " 99                      ['Web Application Development']\n",
       " Name: Skills, Length: 100, dtype: object,\n",
       " 0     ['C++ Programming', 'Software Engineering', 'W...\n",
       " 1                      ['C++ Programming', 'Algorithm']\n",
       " 2                          ['UI/UX', 'C++ Programming']\n",
       " 3                                   ['C++ Programming']\n",
       " 4     ['Algorithm', 'UI/UX', 'Software Engineering',...\n",
       "                             ...                        \n",
       " 95                                        ['Algorithm']\n",
       " 96    ['Algorithm', 'C++ Programming', 'Software Eng...\n",
       " 97    ['Software Engineering', 'Algorithm', 'Web App...\n",
       " 98    ['Algorithm', 'Web Application Development', '...\n",
       " 99            ['UI/UX', 'Algorithm', 'Data Structures']\n",
       " Name: Skills, Length: 100, dtype: object,\n",
       " 0     ['C++ Programming', 'Software Engineering', 'W...\n",
       " 1                      ['C++ Programming', 'Algorithm']\n",
       " 2                          ['UI/UX', 'C++ Programming']\n",
       " 3                                   ['C++ Programming']\n",
       " 4     ['Algorithm', 'UI/UX', 'Software Engineering',...\n",
       "                             ...                        \n",
       " 95                                        ['Algorithm']\n",
       " 96    ['Algorithm', 'C++ Programming', 'Software Eng...\n",
       " 97    ['Software Engineering', 'Algorithm', 'Web App...\n",
       " 98    ['Algorithm', 'Web Application Development', '...\n",
       " 99            ['UI/UX', 'Algorithm', 'Data Structures']\n",
       " Name: Skills, Length: 100, dtype: object]"
      ]
     },
     "execution_count": 8,
     "metadata": {},
     "output_type": "execute_result"
    }
   ],
   "source": [
    "all_skills"
   ]
  },
  {
   "cell_type": "code",
   "execution_count": null,
   "id": "753481c9-f474-446f-9f5a-785b47c49891",
   "metadata": {},
   "outputs": [],
   "source": []
  },
  {
   "cell_type": "code",
   "execution_count": 9,
   "id": "70d0ed70-2cc0-4ebf-83f8-aaf023a3d0f3",
   "metadata": {},
   "outputs": [
    {
     "ename": "AttributeError",
     "evalue": "'Series' object has no attribute 'lower'",
     "output_type": "error",
     "traceback": [
      "\u001b[1;31m---------------------------------------------------------------------------\u001b[0m",
      "\u001b[1;31mAttributeError\u001b[0m                            Traceback (most recent call last)",
      "Input \u001b[1;32mIn [9]\u001b[0m, in \u001b[0;36m<cell line: 3>\u001b[1;34m()\u001b[0m\n\u001b[0;32m      1\u001b[0m \u001b[38;5;66;03m# Create CountVectorizer and fit-transform the skills\u001b[39;00m\n\u001b[0;32m      2\u001b[0m vectorizer \u001b[38;5;241m=\u001b[39m CountVectorizer()\n\u001b[1;32m----> 3\u001b[0m skills_matrix \u001b[38;5;241m=\u001b[39m \u001b[43mvectorizer\u001b[49m\u001b[38;5;241;43m.\u001b[39;49m\u001b[43mfit_transform\u001b[49m\u001b[43m(\u001b[49m\u001b[43mall_skills\u001b[49m\u001b[43m)\u001b[49m\n",
      "File \u001b[1;32m~\\anaconda3\\lib\\site-packages\\sklearn\\feature_extraction\\text.py:1330\u001b[0m, in \u001b[0;36mCountVectorizer.fit_transform\u001b[1;34m(self, raw_documents, y)\u001b[0m\n\u001b[0;32m   1322\u001b[0m             warnings\u001b[38;5;241m.\u001b[39mwarn(\n\u001b[0;32m   1323\u001b[0m                 \u001b[38;5;124m\"\u001b[39m\u001b[38;5;124mUpper case characters found in\u001b[39m\u001b[38;5;124m\"\u001b[39m\n\u001b[0;32m   1324\u001b[0m                 \u001b[38;5;124m\"\u001b[39m\u001b[38;5;124m vocabulary while \u001b[39m\u001b[38;5;124m'\u001b[39m\u001b[38;5;124mlowercase\u001b[39m\u001b[38;5;124m'\u001b[39m\u001b[38;5;124m\"\u001b[39m\n\u001b[0;32m   1325\u001b[0m                 \u001b[38;5;124m\"\u001b[39m\u001b[38;5;124m is True. These entries will not\u001b[39m\u001b[38;5;124m\"\u001b[39m\n\u001b[0;32m   1326\u001b[0m                 \u001b[38;5;124m\"\u001b[39m\u001b[38;5;124m be matched with any documents\u001b[39m\u001b[38;5;124m\"\u001b[39m\n\u001b[0;32m   1327\u001b[0m             )\n\u001b[0;32m   1328\u001b[0m             \u001b[38;5;28;01mbreak\u001b[39;00m\n\u001b[1;32m-> 1330\u001b[0m vocabulary, X \u001b[38;5;241m=\u001b[39m \u001b[38;5;28;43mself\u001b[39;49m\u001b[38;5;241;43m.\u001b[39;49m\u001b[43m_count_vocab\u001b[49m\u001b[43m(\u001b[49m\u001b[43mraw_documents\u001b[49m\u001b[43m,\u001b[49m\u001b[43m \u001b[49m\u001b[38;5;28;43mself\u001b[39;49m\u001b[38;5;241;43m.\u001b[39;49m\u001b[43mfixed_vocabulary_\u001b[49m\u001b[43m)\u001b[49m\n\u001b[0;32m   1332\u001b[0m \u001b[38;5;28;01mif\u001b[39;00m \u001b[38;5;28mself\u001b[39m\u001b[38;5;241m.\u001b[39mbinary:\n\u001b[0;32m   1333\u001b[0m     X\u001b[38;5;241m.\u001b[39mdata\u001b[38;5;241m.\u001b[39mfill(\u001b[38;5;241m1\u001b[39m)\n",
      "File \u001b[1;32m~\\anaconda3\\lib\\site-packages\\sklearn\\feature_extraction\\text.py:1201\u001b[0m, in \u001b[0;36mCountVectorizer._count_vocab\u001b[1;34m(self, raw_documents, fixed_vocab)\u001b[0m\n\u001b[0;32m   1199\u001b[0m \u001b[38;5;28;01mfor\u001b[39;00m doc \u001b[38;5;129;01min\u001b[39;00m raw_documents:\n\u001b[0;32m   1200\u001b[0m     feature_counter \u001b[38;5;241m=\u001b[39m {}\n\u001b[1;32m-> 1201\u001b[0m     \u001b[38;5;28;01mfor\u001b[39;00m feature \u001b[38;5;129;01min\u001b[39;00m \u001b[43manalyze\u001b[49m\u001b[43m(\u001b[49m\u001b[43mdoc\u001b[49m\u001b[43m)\u001b[49m:\n\u001b[0;32m   1202\u001b[0m         \u001b[38;5;28;01mtry\u001b[39;00m:\n\u001b[0;32m   1203\u001b[0m             feature_idx \u001b[38;5;241m=\u001b[39m vocabulary[feature]\n",
      "File \u001b[1;32m~\\anaconda3\\lib\\site-packages\\sklearn\\feature_extraction\\text.py:113\u001b[0m, in \u001b[0;36m_analyze\u001b[1;34m(doc, analyzer, tokenizer, ngrams, preprocessor, decoder, stop_words)\u001b[0m\n\u001b[0;32m    111\u001b[0m \u001b[38;5;28;01melse\u001b[39;00m:\n\u001b[0;32m    112\u001b[0m     \u001b[38;5;28;01mif\u001b[39;00m preprocessor \u001b[38;5;129;01mis\u001b[39;00m \u001b[38;5;129;01mnot\u001b[39;00m \u001b[38;5;28;01mNone\u001b[39;00m:\n\u001b[1;32m--> 113\u001b[0m         doc \u001b[38;5;241m=\u001b[39m \u001b[43mpreprocessor\u001b[49m\u001b[43m(\u001b[49m\u001b[43mdoc\u001b[49m\u001b[43m)\u001b[49m\n\u001b[0;32m    114\u001b[0m     \u001b[38;5;28;01mif\u001b[39;00m tokenizer \u001b[38;5;129;01mis\u001b[39;00m \u001b[38;5;129;01mnot\u001b[39;00m \u001b[38;5;28;01mNone\u001b[39;00m:\n\u001b[0;32m    115\u001b[0m         doc \u001b[38;5;241m=\u001b[39m tokenizer(doc)\n",
      "File \u001b[1;32m~\\anaconda3\\lib\\site-packages\\sklearn\\feature_extraction\\text.py:71\u001b[0m, in \u001b[0;36m_preprocess\u001b[1;34m(doc, accent_function, lower)\u001b[0m\n\u001b[0;32m     52\u001b[0m \u001b[38;5;124;03m\"\"\"Chain together an optional series of text preprocessing steps to\u001b[39;00m\n\u001b[0;32m     53\u001b[0m \u001b[38;5;124;03mapply to a document.\u001b[39;00m\n\u001b[0;32m     54\u001b[0m \n\u001b[1;32m   (...)\u001b[0m\n\u001b[0;32m     68\u001b[0m \u001b[38;5;124;03m    preprocessed string\u001b[39;00m\n\u001b[0;32m     69\u001b[0m \u001b[38;5;124;03m\"\"\"\u001b[39;00m\n\u001b[0;32m     70\u001b[0m \u001b[38;5;28;01mif\u001b[39;00m lower:\n\u001b[1;32m---> 71\u001b[0m     doc \u001b[38;5;241m=\u001b[39m \u001b[43mdoc\u001b[49m\u001b[38;5;241;43m.\u001b[39;49m\u001b[43mlower\u001b[49m()\n\u001b[0;32m     72\u001b[0m \u001b[38;5;28;01mif\u001b[39;00m accent_function \u001b[38;5;129;01mis\u001b[39;00m \u001b[38;5;129;01mnot\u001b[39;00m \u001b[38;5;28;01mNone\u001b[39;00m:\n\u001b[0;32m     73\u001b[0m     doc \u001b[38;5;241m=\u001b[39m accent_function(doc)\n",
      "File \u001b[1;32m~\\anaconda3\\lib\\site-packages\\pandas\\core\\generic.py:5575\u001b[0m, in \u001b[0;36mNDFrame.__getattr__\u001b[1;34m(self, name)\u001b[0m\n\u001b[0;32m   5568\u001b[0m \u001b[38;5;28;01mif\u001b[39;00m (\n\u001b[0;32m   5569\u001b[0m     name \u001b[38;5;129;01mnot\u001b[39;00m \u001b[38;5;129;01min\u001b[39;00m \u001b[38;5;28mself\u001b[39m\u001b[38;5;241m.\u001b[39m_internal_names_set\n\u001b[0;32m   5570\u001b[0m     \u001b[38;5;129;01mand\u001b[39;00m name \u001b[38;5;129;01mnot\u001b[39;00m \u001b[38;5;129;01min\u001b[39;00m \u001b[38;5;28mself\u001b[39m\u001b[38;5;241m.\u001b[39m_metadata\n\u001b[0;32m   5571\u001b[0m     \u001b[38;5;129;01mand\u001b[39;00m name \u001b[38;5;129;01mnot\u001b[39;00m \u001b[38;5;129;01min\u001b[39;00m \u001b[38;5;28mself\u001b[39m\u001b[38;5;241m.\u001b[39m_accessors\n\u001b[0;32m   5572\u001b[0m     \u001b[38;5;129;01mand\u001b[39;00m \u001b[38;5;28mself\u001b[39m\u001b[38;5;241m.\u001b[39m_info_axis\u001b[38;5;241m.\u001b[39m_can_hold_identifiers_and_holds_name(name)\n\u001b[0;32m   5573\u001b[0m ):\n\u001b[0;32m   5574\u001b[0m     \u001b[38;5;28;01mreturn\u001b[39;00m \u001b[38;5;28mself\u001b[39m[name]\n\u001b[1;32m-> 5575\u001b[0m \u001b[38;5;28;01mreturn\u001b[39;00m \u001b[38;5;28;43mobject\u001b[39;49m\u001b[38;5;241;43m.\u001b[39;49m\u001b[38;5;21;43m__getattribute__\u001b[39;49m\u001b[43m(\u001b[49m\u001b[38;5;28;43mself\u001b[39;49m\u001b[43m,\u001b[49m\u001b[43m \u001b[49m\u001b[43mname\u001b[49m\u001b[43m)\u001b[49m\n",
      "\u001b[1;31mAttributeError\u001b[0m: 'Series' object has no attribute 'lower'"
     ]
    }
   ],
   "source": [
    "\n",
    "# Create CountVectorizer and fit-transform the skills\n",
    "vectorizer = CountVectorizer()\n",
    "skills_matrix = vectorizer.fit_transform(all_skills)"
   ]
  },
  {
   "cell_type": "code",
   "execution_count": null,
   "id": "59159974-7518-4426-a0cd-dedff8f07626",
   "metadata": {},
   "outputs": [],
   "source": []
  },
  {
   "cell_type": "code",
   "execution_count": null,
   "id": "7d895b57-f2d0-4b87-ab13-2ae16ca92c2e",
   "metadata": {},
   "outputs": [],
   "source": [
    "# Compute cosine similarity matrix\n",
    "user_skills = skills_matrix[:len(users)]\n",
    "project_skills = skills_matrix[len(users):]\n",
    "cosine_sim_matrix = cosine_similarity(user_skills, project_skills)"
   ]
  },
  {
   "cell_type": "code",
   "execution_count": null,
   "id": "37116e71-886c-429c-8b9a-22a7e1266c07",
   "metadata": {},
   "outputs": [],
   "source": []
  },
  {
   "cell_type": "code",
   "execution_count": null,
   "id": "d52d060b-cb88-4f3b-bb64-c175f70536c7",
   "metadata": {},
   "outputs": [],
   "source": []
  }
 ],
 "metadata": {
  "kernelspec": {
   "display_name": "Python 3 (ipykernel)",
   "language": "python",
   "name": "python3"
  },
  "language_info": {
   "codemirror_mode": {
    "name": "ipython",
    "version": 3
   },
   "file_extension": ".py",
   "mimetype": "text/x-python",
   "name": "python",
   "nbconvert_exporter": "python",
   "pygments_lexer": "ipython3",
   "version": "3.9.12"
  }
 },
 "nbformat": 4,
 "nbformat_minor": 5
}
