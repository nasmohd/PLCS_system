{
 "cells": [
  {
   "cell_type": "code",
   "execution_count": null,
   "id": "52ca162d-8ed8-467c-a19c-1e2c999ac811",
   "metadata": {},
   "outputs": [],
   "source": []
  },
  {
   "cell_type": "code",
   "execution_count": null,
   "id": "f8f8ace2-2914-4673-8e70-e86758fc2bc1",
   "metadata": {},
   "outputs": [
    {
     "ename": "SyntaxError",
     "evalue": "invalid syntax (1715381739.py, line 2)",
     "output_type": "error",
     "traceback": [
      "\u001b[1;36m  Input \u001b[1;32mIn [3]\u001b[1;36m\u001b[0m\n\u001b[1;33m    Project = <QuerySet [<Project: id = 10, title = PLC Programming, status = 1, project_skills = ['Algorithms', 'Data Structures and Algorithms']>, <Project: id = 18, title = PLC Programming, status = 1, project_skills = ['Data Structures and Algorithms', 'Algorithms']>, <Project: id = 19, title = PLC Programming, status = 1, project_skills = ['Algorithms', 'Data Structures and Algorithms']>, <Project: id = 20, title = PLC Programming, status = 1, project_skills = ['Algorithms', 'Data Structures and Algorithms']>, <Project: id = 48, title = PLC Programming, status = 1, project_skills = ['Algorithms', 'Data Structures and Algorithms']>, <Project: id = 49, title = PLC Programming, status = 1, project_skills = ['Algorithms', 'Blockchain']>, <Project: id = 50, title = PLC Programming, status = 1, project_skills = ['Algorithms', 'Data Structures and Algorithms']>, <Project: id = 51, title = PLC Programming, status = 1, project_skills = ['Algorithms', 'Blockchain']>, <Project: id = 52, title = PLC Programming, status = 1, project_skills = ['Algorithms', 'Blockchain']>, <Project: id = 53, title = PLC Programming, status = 1, project_skills = ['Algorithms', 'Blockchain']>, <Project: id = 54, title = Traffic monitoring, status = 1, project_skills = ['Software Engineering', 'Data Structures and Algorithms', 'Algorithms']>]>\u001b[0m\n\u001b[1;37m              ^\u001b[0m\n\u001b[1;31mSyntaxError\u001b[0m\u001b[1;31m:\u001b[0m invalid syntax\n"
     ]
    }
   ],
   "source": [
    "#Projects queryset\n",
    "<QuerySet [<Project: id = 10, title = PLC Programming, status = 1, project_skills = ['Algorithms', 'Data Structures and Algorithms']>, <Project: id = 18, title = PLC Programming, status = 1, project_skills = ['Data Structures and Algorithms', 'Algorithms']>, <Project: id = 19, title = PLC Programming, status = 1, project_skills = ['Algorithms', 'Data Structures and Algorithms']>, <Project: id = 20, title = PLC Programming, status = 1, project_skills = ['Algorithms', 'Data Structures and Algorithms']>, <Project: id = 48, title = PLC Programming, status = 1, project_skills = ['Algorithms', 'Data Structures and Algorithms']>, <Project: id = 49, title = PLC Programming, status = 1, project_skills = ['Algorithms', 'Blockchain']>, <Project: id = 50, title = PLC Programming, status = 1, project_skills = ['Algorithms', 'Data Structures and Algorithms']>, <Project: id = 51, title = PLC Programming, status = 1, project_skills = ['Algorithms', 'Blockchain']>, <Project: id = 52, title = PLC Programming, status = 1, project_skills = ['Algorithms', 'Blockchain']>, <Project: id = 53, title = PLC Programming, status = 1, project_skills = ['Algorithms', 'Blockchain']>, <Project: id = 54, title = Traffic monitoring, status = 1, project_skills = ['Software Engineering', 'Data Structures and Algorithms', 'Algorithms']>]>\n"
   ]
  },
  {
   "cell_type": "code",
   "execution_count": null,
   "id": "3b768b23-f390-4e0e-bea2-1a848f3db694",
   "metadata": {},
   "outputs": [],
   "source": [
    "#Users queryset\n",
    "<QuerySet [<User: id = 1, email = nasmohd60@gmail.com, project_interests = ['xd']>, <User: id = 2, email = jbond@gmail.com, project_interests = >, <User: id = 3, email = nasmohd40@gmail.com, project_interests = >, <User: id = 6, email = baldj11@gmail.com, project_interests = ['xd']>, <User: id = 7, email = jjones@gmail.com, project_interests = ['UI/UX Design', 'Android Mobile App Programming', 'C++ Programming']>, <User: id = 8, email = jken@gmail.com, project_interests = ['xd']>, <User: id = 12, email = test123@gmail.com, project_interests = ['Algorithms', 'Data Structures and Algorithms']>, <User: id = 13, email = dgabbana@gmail.com, project_interests = ['Algorithms', 'Data Structures and Algorithms']>, <User: id = 21, email = nasmohd30@gmail.com, project_interests = ['Algorithms', 'Blockchain']>]>"
   ]
  },
  {
   "cell_type": "code",
   "execution_count": null,
   "id": "f8256cc5-e7f9-405e-bbff-fd4a0502b8ad",
   "metadata": {},
   "outputs": [],
   "source": []
  },
  {
   "cell_type": "code",
   "execution_count": null,
   "id": "adc694b5-ed96-4937-a93a-707c0d0d19e6",
   "metadata": {},
   "outputs": [],
   "source": [
    "Consider the querysets below in django,\n",
    "Project queryset has values <QuerySet [<Project: id = 10, title = PLC Programming, status = 1, project_skills = ['Algorithms', 'Data Structures and Algorithms']>, <Project: id = 18, title = PLC Programming, status = 1, project_skills = ['Data Structures and Algorithms', 'Algorithms']>, <Project: id = 19, title = PLC Programming, status = 1, project_skills = ['Algorithms', 'Data Structures and Algorithms']>, <Project: id = 20, title = PLC Programming, status = 1, project_skills = ['Algorithms', 'Data Structures and Algorithms']>, <Project: id = 48, title = PLC Programming, status = 1, project_skills = ['Algorithms', 'Data Structures and Algorithms']>, <Project: id = 49, title = PLC Programming, status = 1, project_skills = ['Algorithms', 'Blockchain']>, <Project: id = 50, title = PLC Programming, status = 1, project_skills = ['Algorithms', 'Data Structures and Algorithms']>, <Project: id = 51, title = PLC Programming, status = 1, project_skills = ['Algorithms', 'Blockchain']>, <Project: id = 52, title = PLC Programming, status = 1, project_skills = ['Algorithms', 'Blockchain']>, <Project: id = 53, title = PLC Programming, status = 1, project_skills = ['Algorithms', 'Blockchain']>, <Project: id = 54, title = Traffic monitoring, status = 1, project_skills = ['Software Engineering', 'Data Structures and Algorithms', 'Algorithms']>]>\n",
    "and User queryset has values <QuerySet [<User: id = 1, email = nasmohd60@gmail.com, project_interests = ['xd']>, <User: id = 2, email = jbond@gmail.com, project_interests = >, <User: id = 3, email = nasmohd40@gmail.com, project_interests = >, <User: id = 6, email = baldj11@gmail.com, project_interests = ['xd']>, <User: id = 7, email = jjones@gmail.com, project_interests = ['UI/UX Design', 'Android Mobile App Programming', 'C++ Programming']>, <User: id = 8, email = jken@gmail.com, project_interests = ['xd']>, <User: id = 12, email = test123@gmail.com, project_interests = ['Algorithms', 'Data Structures and Algorithms']>, <User: id = 13, email = dgabbana@gmail.com, project_interests = ['Algorithms', 'Data Structures and Algorithms']>, <User: id = 21, email = nasmohd30@gmail.com, project_interests = ['Algorithms', 'Blockchain']>]>\n",
    "\n",
    "write code using cosine similarity to recommend projects to users by taking user's project_interests and based on those values, use project_skills in project to recommend"
   ]
  },
  {
   "cell_type": "code",
   "execution_count": null,
   "id": "40342449-127c-4ed5-b8b3-2136c82a46f9",
   "metadata": {},
   "outputs": [],
   "source": []
  },
  {
   "cell_type": "code",
   "execution_count": null,
   "id": "0ce9f7b8-7cb2-44d2-b930-9c21b6a0a5d4",
   "metadata": {},
   "outputs": [],
   "source": [
    "queryset = [\n",
    "    <Project: id=10, title=PLC Programming, status=1, project_skills=['Algorithms', 'Data Structures and Algorithms']>,\n",
    "    <Project: id=18, title=PLC Programming, status=1, project_skills=['Data Structures and Algorithms', 'Algorithms']>,\n",
    "    <Project: id=19, title=PLC Programming, status=1, project_skills=['Algorithms', 'Data Structures and Algorithms']>,\n",
    "    <Project: id=20, title=PLC Programming, status=1, project_skills=['Algorithms', 'Data Structures and Algorithms']>,\n",
    "    <Project: id=48, title=PLC Programming, status=1, project_skills=['Algorithms', 'Data Structures and Algorithms']>,\n",
    "    <Project: id=49, title=PLC Programming, status=1, project_skills=['Algorithms', 'Blockchain']>,\n",
    "    <Project: id=50, title=PLC Programming, status=1, project_skills=['Algorithms', 'Data Structures and Algorithms']>,\n",
    "    <Project: id=51, title=PLC Programming, status=1, project_skills=['Algorithms', 'Blockchain']>,\n",
    "    <Project: id=52, title=PLC Programming, status=1, project_skills=['Algorithms', 'Blockchain']>,\n",
    "    <Project: id=53, title=PLC Programming, status=1, project_skills=['Algorithms', 'Blockchain']>,\n",
    "    <Project: id=54, title=Traffic monitoring, status=1, project_skills=['Software Engineering', 'Data Structures and Algorithms', 'Algorithms']>\n",
    "]\n",
    "\n",
    "# Example usage\n",
    "#assigned_queryset = queryset"
   ]
  },
  {
   "cell_type": "code",
   "execution_count": null,
   "id": "b72770ce-6f81-4980-b694-7a3629a2b94e",
   "metadata": {},
   "outputs": [],
   "source": []
  },
  {
   "cell_type": "code",
   "execution_count": null,
   "id": "08d7da88-7670-44fb-909a-0f7fb5832487",
   "metadata": {},
   "outputs": [],
   "source": []
  },
  {
   "cell_type": "code",
   "execution_count": null,
   "id": "d86e3ea6-a6f0-485b-a607-df6590c2e94c",
   "metadata": {},
   "outputs": [],
   "source": []
  },
  {
   "cell_type": "code",
   "execution_count": 1,
   "id": "a8d9cfde-7d7b-47f1-879c-18cef67a3138",
   "metadata": {},
   "outputs": [
    {
     "ename": "SyntaxError",
     "evalue": "cannot assign to literal (4168383999.py, line 24)",
     "output_type": "error",
     "traceback": [
      "\u001b[1;36m  Input \u001b[1;32mIn [2]\u001b[1;36m\u001b[0m\n\u001b[1;33m    user = id = 7, email = jjones@gmail.com, project_interests = ['UI/UX Design', 'Android Mobile App Programming', 'C++ Programming']\u001b[0m\n\u001b[1;37m                ^\u001b[0m\n\u001b[1;31mSyntaxError\u001b[0m\u001b[1;31m:\u001b[0m cannot assign to literal\n"
     ]
    }
   ],
   "source": [
    "import numpy as np\n",
    "from sklearn.metrics.pairwise import cosine_similarity\n",
    "\n",
    "def recommend_projects(user, projects, limit=15):\n",
    "    user_interests = set(user.project_interests)  # Convert project interests to a set\n",
    "    project_skills = [set(project.project_skills) for project in projects]  # Convert project skills to sets\n",
    "\n",
    "    # Create a matrix of user interests and project skills\n",
    "    interests_matrix = np.array([list(user_interests)] * len(projects))\n",
    "    skills_matrix = np.array(project_skills)\n",
    "\n",
    "    # Compute the cosine similarity between user interests and project skills\n",
    "    similarity_scores = cosine_similarity(interests_matrix, skills_matrix)\n",
    "\n",
    "    # Get the indices of projects sorted by similarity score in descending order\n",
    "    sorted_indices = np.argsort(similarity_scores, axis=0)[::-1].flatten()\n",
    "\n",
    "    # Retrieve the recommended projects\n",
    "    recommended_projects = [projects[i] for i in sorted_indices[:limit]]\n",
    "\n",
    "    return recommended_projects\n",
    "\n",
    "# Example usage\n",
    "user = \n",
    "\n",
    "#projects = Project.objects.all()  # Replace with the queryset of projects\n",
    "projects = queryset\n",
    "\n",
    "recommended_projects = recommend_projects(user, projects, limit=15)\n"
   ]
  },
  {
   "cell_type": "code",
   "execution_count": null,
   "id": "02102f1e-850e-4190-88c5-d9c9799aa8e8",
   "metadata": {},
   "outputs": [],
   "source": []
  },
  {
   "cell_type": "code",
   "execution_count": null,
   "id": "24ec3f35-f180-45bb-8425-e9089a5bfeb5",
   "metadata": {},
   "outputs": [],
   "source": []
  },
  {
   "cell_type": "code",
   "execution_count": 5,
   "id": "8e370ab9-3c51-43ed-98f4-77e19add25ed",
   "metadata": {},
   "outputs": [
    {
     "ename": "SyntaxError",
     "evalue": "invalid syntax (3009362743.py, line 7)",
     "output_type": "error",
     "traceback": [
      "\u001b[1;36m  Input \u001b[1;32mIn [5]\u001b[1;36m\u001b[0m\n\u001b[1;33m    <Project: id=10, title=PLC Programming, status=1, project_skills=['Algorithms', 'Data Structures and Algorithms']>,\u001b[0m\n\u001b[1;37m    ^\u001b[0m\n\u001b[1;31mSyntaxError\u001b[0m\u001b[1;31m:\u001b[0m invalid syntax\n"
     ]
    }
   ],
   "source": [
    "import csv\n",
    "from sklearn.feature_extraction.text import TfidfVectorizer\n",
    "from sklearn.metrics.pairwise import cosine_similarity\n",
    "\n",
    "# Define the project queryset\n",
    "project_queryset = [\n",
    "    <Project: id=10, title=PLC Programming, status=1, project_skills=['Algorithms', 'Data Structures and Algorithms']>,\n",
    "    <Project: id=18, title=PLC Programming, status=1, project_skills=['Data Structures and Algorithms', 'Algorithms']>,\n",
    "    <Project: id=19, title=PLC Programming, status=1, project_skills=['Algorithms', 'Data Structures and Algorithms']>,\n",
    "    <Project: id=20, title=PLC Programming, status=1, project_skills=['Algorithms', 'Data Structures and Algorithms']>,\n",
    "    <Project: id=48, title=PLC Programming, status=1, project_skills=['Algorithms', 'Data Structures and Algorithms']>,\n",
    "    <Project: id=49, title=PLC Programming, status=1, project_skills=['Algorithms', 'Blockchain']>,\n",
    "    <Project: id=50, title=PLC Programming, status=1, project_skills=['Algorithms', 'Data Structures and Algorithms']>,\n",
    "    <Project: id=51, title=PLC Programming, status=1, project_skills=['Algorithms', 'Blockchain']>,\n",
    "    <Project: id=52, title=PLC Programming, status=1, project_skills=['Algorithms', 'Blockchain']>,\n",
    "    <Project: id=53, title=PLC Programming, status=1, project_skills=['Algorithms', 'Blockchain']>,\n",
    "    <Project: id=54, title=Traffic monitoring, status=1, project_skills=['Software Engineering', 'Data Structures and Algorithms', 'Algorithms']>\n",
    "]\n",
    "\n",
    "# Define the user queryset\n",
    "user_queryset = [\n",
    "    <User: id=1, email=nasmohd60@gmail.com, project_interests=['xd']>,\n",
    "    <User: id=2, email=jbond@gmail.com, project_interests=>,\n",
    "    <User: id=3, email=nasmohd40@gmail.com, project_interests=>,\n",
    "    <User: id=6, email=baldj11@gmail.com, project_interests=['xd']>,\n",
    "    <User: id=7, email=jjones@gmail.com, project_interests=['UI/UX Design', 'Android Mobile App Programming', 'C++ Programming']>,\n",
    "    <User: id=8, email=jken@gmail.com, project_interests=['xd']>,\n",
    "    <User: id=12, email=test123@gmail.com, project_interests=['Algorithms', 'Data Structures and Algorithms']>,\n",
    "    <User: id=13, email=dgabbana@gmail.com, project_interests=['Algorithms', 'Data Structures and Algorithms']>,\n",
    "    <User: id=21, email=nasmohd30@gmail.com, project_interests=['Algorithms', 'Blockchain']>\n",
    "]\n",
    "\n",
    "# Create a list to store the recommendations for each user\n",
    "recommendations = []\n",
    "\n",
    "# Preprocess project skills and user interests into a list of strings\n",
    "project_skills = [', '.join(project.project_skills) for project in project_queryset]\n",
    "user_interests = [', '.join(user.project_interests) for user in user_queryset]\n",
    "\n",
    "# Vectorize the project skills and user interests\n",
    "vectorizer = TfidfVectorizer()\n",
    "project_vectors = vectorizer.fit_transform(project_skills)\n",
    "user_vectors = vectorizer.transform(user_interests)\n",
    "\n",
    "# Calculate the cosine similarity between project vectors and user vectors\n",
    "similarity_matrix = cosine_similarity(user_vectors, project_vectors)\n",
    "\n",
    "# Get top-k project recommendations for each user\n",
    "k = 10\n",
    "for i, user in enumerate(user_queryset):\n",
    "    user_email = user.email\n",
    "    user_recommendations = []\n",
    "    user_similarities = similarity_matrix[i]\n",
    "    top_indices = user_similarities.argsort()[-k:][::-1]  # Get indices of top-k projects\n",
    "    for index in top_indices:\n",
    "        project_id = project_queryset[index].id\n",
    "        user_recommendations.append(project_id)\n",
    "    recommendations.append((user_email, user_recommendations))\n",
    "\n",
    "# Save recommendations to a CSV file\n",
    "filename = 'recommendations.csv'\n",
    "with open(filename, 'w', newline='') as file:\n",
    "    writer = csv.writer(file)\n",
    "    writer.writerow(['User Email', 'Recommended Projects'])\n",
    "    for user_email, user_recommendations in recommendations:\n",
    "        writer.writerow([user_email, user_recommendations])\n"
   ]
  },
  {
   "cell_type": "code",
   "execution_count": null,
   "id": "556f3c2f-596c-4a58-8fc6-a710d71fafae",
   "metadata": {},
   "outputs": [],
   "source": []
  }
 ],
 "metadata": {
  "kernelspec": {
   "display_name": "Python 3 (ipykernel)",
   "language": "python",
   "name": "python3"
  },
  "language_info": {
   "codemirror_mode": {
    "name": "ipython",
    "version": 3
   },
   "file_extension": ".py",
   "mimetype": "text/x-python",
   "name": "python",
   "nbconvert_exporter": "python",
   "pygments_lexer": "ipython3",
   "version": "3.9.12"
  }
 },
 "nbformat": 4,
 "nbformat_minor": 5
}
