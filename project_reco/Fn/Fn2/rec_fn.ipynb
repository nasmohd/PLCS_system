{
 "cells": [
  {
   "cell_type": "code",
   "execution_count": 2,
   "id": "93c9b1a1-0e81-407a-a5f5-6c41965b034c",
   "metadata": {},
   "outputs": [],
   "source": [
    "import csv\n",
    "from django.http import HttpResponse\n",
    "from django.shortcuts import render\n",
    "from sklearn.feature_extraction.text import CountVectorizer\n",
    "from sklearn.metrics.pairwise import cosine_similarity\n",
    "\n"
   ]
  },
  {
   "cell_type": "code",
   "execution_count": null,
   "id": "48e18072-c954-4282-866a-95f653527dbd",
   "metadata": {},
   "outputs": [],
   "source": []
  },
  {
   "cell_type": "code",
   "execution_count": 3,
   "id": "d98c0864-b460-481f-8aa0-701de69e8a5d",
   "metadata": {},
   "outputs": [
    {
     "ename": "NameError",
     "evalue": "name 'User' is not defined",
     "output_type": "error",
     "traceback": [
      "\u001b[1;31m---------------------------------------------------------------------------\u001b[0m",
      "\u001b[1;31mNameError\u001b[0m                                 Traceback (most recent call last)",
      "Input \u001b[1;32mIn [3]\u001b[0m, in \u001b[0;36m<cell line: 2>\u001b[1;34m()\u001b[0m\n\u001b[0;32m      1\u001b[0m \u001b[38;5;66;03m#<class 'PLCS_system.models.User'>\u001b[39;00m\n\u001b[1;32m----> 2\u001b[0m user \u001b[38;5;241m=\u001b[39m \u001b[43mUser\u001b[49m\u001b[38;5;241m.\u001b[39mobjects\u001b[38;5;241m.\u001b[39mget(\u001b[38;5;28mid\u001b[39m \u001b[38;5;241m=\u001b[39m user_id)\n",
      "\u001b[1;31mNameError\u001b[0m: name 'User' is not defined"
     ]
    }
   ],
   "source": [
    "#<class 'PLCS_system.models.User'>\n",
    "#user = User.objects.get(id = user_id)\n",
    "\n",
    "#<User: id = 1, email = nasmohd60@gmail.com, project_interests = ['xd']>\n",
    "\n",
    "#Output = \"['Algorithms', 'Software Engineering']\"\n",
    "user_interests = user.project_interests\n",
    "\n"
   ]
  },
  {
   "cell_type": "code",
   "execution_count": null,
   "id": "90a5d4ab-27e3-4fcf-970b-cd925d384d24",
   "metadata": {},
   "outputs": [],
   "source": []
  },
  {
   "cell_type": "code",
   "execution_count": null,
   "id": "795267c2-aad4-4bfd-8ed8-47c8009a404c",
   "metadata": {},
   "outputs": [],
   "source": [
    "#<class 'django.db.models.query.QuerySet'>\n",
    "projects = Project.objects.all()\n",
    "\n",
    "#<QuerySet [<Project: id = 1, title = PLC Programming, status = 1, project_skills = ['Algorithms', 'Data Structures and Algorithms']>, <Project: id = 2, title = PLC Programming, status = 1, project_skills = ['Algorithms', 'Data Structures and Algorithms']>, <Project: id = 3, title = PLC Programming, status = 1, project_skills = ['Web application development', 'Algorithms']>, <Project: id = 4, title = PLC Programming, status = 1, project_skills = ['Data Structures and Algorithms', 'Blockchain']>, <Project: id = 5, title = PLC Programming, status = 1, project_skills = ['Data Structures and Algorithms', 'Blockchain', 'Algorithms']>, <Project: id = 6, title = PLC Programming, status = 1, project_skills = ['Algorithms', 'Web application development', 'Cyber Security']>, <Project: id = 7, title = PLC Programming, status = 1, project_skills = ['Robotics', 'Arduino Programming']>, <Project: id = 8, title = PLC Programming, status = 1, project_skills = ['3D printing', 'PCB design']>, <Project: id = 9, title = PLC Programming, status = 1, project_skills = ['DevOps', 'HTML', 'CSS', 'Javascript']>, <Project: id = 10, title = PLC Programming, status = 1, project_skills = ['Mobile App development', 'Android Studio', 'Java']>, <Project: id = 11, title = PLC Programming, status = 1, project_skills = ['Angular', 'Vue', 'Reactjs']>, <Project: id = 12, title = PLC Programming, status = 1, project_skills = ['Node.js', 'jQuery', 'Bootstrap']>, <Project: id = 13, title = PLC Programming, status = 1, project_skills = ['Bootstrap', 'HTML', 'CSS', 'Javascript', 'jQuery']>, <Project: id = 14, title = PLC Programming, status = 1, project_skills = ['Web application development']>, <Project: id = 15, title = PLC Programming, status = 1, project_skills = ['Android Studio', 'Mobile App development']>, <Project: id = 16, title = PLC Programming, status = 1, project_skills = ['PCB design', 'PLC programming', 'Arduino Programming']>]>"
   ]
  }
 ],
 "metadata": {
  "kernelspec": {
   "display_name": "Python 3 (ipykernel)",
   "language": "python",
   "name": "python3"
  },
  "language_info": {
   "codemirror_mode": {
    "name": "ipython",
    "version": 3
   },
   "file_extension": ".py",
   "mimetype": "text/x-python",
   "name": "python",
   "nbconvert_exporter": "python",
   "pygments_lexer": "ipython3",
   "version": "3.9.12"
  }
 },
 "nbformat": 4,
 "nbformat_minor": 5
}
