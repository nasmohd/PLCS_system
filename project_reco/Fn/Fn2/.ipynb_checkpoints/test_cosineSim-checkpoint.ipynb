{
 "cells": [
  {
   "cell_type": "code",
   "execution_count": 1,
   "id": "bb3f9e5d-4ecb-4f6d-a475-19bdf23d270a",
   "metadata": {},
   "outputs": [
    {
     "name": "stdout",
     "output_type": "stream",
     "text": [
      "[[1. 0. 0. 0. 1.]\n",
      " [0. 1. 0. 0. 0.]\n",
      " [0. 0. 1. 0. 0.]\n",
      " [0. 0. 0. 1. 0.]\n",
      " [1. 0. 0. 0. 1.]]\n"
     ]
    }
   ],
   "source": [
    "from sklearn.feature_extraction.text import CountVectorizer\n",
    "from sklearn.metrics.pairwise import cosine_similarity\n",
    "\n",
    "# Step 1: Preprocess the data\n",
    "\n",
    "# Combine the lists\n",
    "all_skills = ['UI/UX', 'Software Engineering', 'Mobile App Development', 'Java', 'UI/UX']\n",
    "\n",
    "# Create CountVectorizer and fit-transform the skills\n",
    "vectorizer = CountVectorizer()\n",
    "skills_matrix = vectorizer.fit_transform(all_skills)\n",
    "\n",
    "# Step 2: Compute the cosine similarity\n",
    "\n",
    "# Compute cosine similarity matrix\n",
    "cosine_sim_matrix = cosine_similarity(skills_matrix)\n",
    "\n",
    "# Display the cosine similarity matrix\n",
    "print(cosine_sim_matrix)\n",
    "\n"
   ]
  },
  {
   "cell_type": "code",
   "execution_count": null,
   "id": "520a1b32-937e-4c63-8243-8398dc0e0531",
   "metadata": {},
   "outputs": [],
   "source": []
  },
  {
   "cell_type": "code",
   "execution_count": 2,
   "id": "c0d4e3f2-3d3d-4f1a-944d-63cc4dadbde9",
   "metadata": {},
   "outputs": [
    {
     "name": "stdout",
     "output_type": "stream",
     "text": [
      "  (0, 6)\t1\n",
      "  (0, 7)\t1\n",
      "  (1, 2)\t1\n",
      "  (1, 5)\t1\n",
      "  (2, 0)\t1\n",
      "  (2, 1)\t1\n",
      "  (2, 4)\t1\n",
      "  (3, 3)\t1\n",
      "  (4, 6)\t1\n",
      "  (4, 7)\t1\n"
     ]
    }
   ],
   "source": [
    "print (skills_matrix)"
   ]
  },
  {
   "cell_type": "code",
   "execution_count": null,
   "id": "b6e3a939-851f-43fe-bd98-a7d0b5215d4f",
   "metadata": {},
   "outputs": [],
   "source": []
  }
 ],
 "metadata": {
  "kernelspec": {
   "display_name": "Python 3 (ipykernel)",
   "language": "python",
   "name": "python3"
  },
  "language_info": {
   "codemirror_mode": {
    "name": "ipython",
    "version": 3
   },
   "file_extension": ".py",
   "mimetype": "text/x-python",
   "name": "python",
   "nbconvert_exporter": "python",
   "pygments_lexer": "ipython3",
   "version": "3.9.12"
  }
 },
 "nbformat": 4,
 "nbformat_minor": 5
}
